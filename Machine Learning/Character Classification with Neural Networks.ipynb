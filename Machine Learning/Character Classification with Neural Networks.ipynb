{
 "cells": [
  {
   "cell_type": "markdown",
   "metadata": {},
   "source": [
    "# Character Classification with Neural Networks\n",
    "\n",
    "In this notebook we are going to use the Neural Networks for image classification. We are going to use the same dataset of the lab on SVM: Kuzushiji-MNIST or K-MNIST for short (https://github.com/rois-codh/kmnist) a dataset of traditional japanese handwritten kana.\n",
    "\n",
    "The dataset labels are the following:\n",
    "\n",
    "| Label | Hiragana Character | Romanji (Pronunciation) |\n",
    "| :-: | :-: | :-: |\n",
    "|   0   | お | o |\n",
    "| 1 | き | ki |\n",
    "| 2 | す | su |\n",
    "| 3 | つ | tsu |\n",
    "| 4 | な | na |\n",
    "| 5 | は | ha |\n",
    "| 6 | ま | ma |\n",
    "| 7 | や | ya |\n",
    "| 8 | れ | re |\n",
    "| 9 | を | wo |"
   ]
  },
  {
   "cell_type": "code",
   "execution_count": 1,
   "metadata": {},
   "outputs": [
    {
     "name": "stdout",
     "output_type": "stream",
     "text": [
      "scikit-learn version:  1.0.2\n"
     ]
    }
   ],
   "source": [
    "#load the required packages and check Scikit-learn version\n",
    "\n",
    "%matplotlib inline  \n",
    "\n",
    "import numpy as np\n",
    "import pandas as pd\n",
    "import scipy as sp\n",
    "import matplotlib.pyplot as plt\n",
    "\n",
    "import sklearn\n",
    "print ('scikit-learn version: ', sklearn.__version__)\n",
    "from sklearn.neural_network import MLPClassifier\n",
    "from sklearn.model_selection import GridSearchCV\n",
    "from sklearn.svm import SVC"
   ]
  },
  {
   "cell_type": "code",
   "execution_count": 2,
   "metadata": {},
   "outputs": [],
   "source": [
    "# helper function to load KMNIST dataset from disk\n",
    "def load_mnist(path, kind='train'):\n",
    "    import os\n",
    "    import gzip\n",
    "    import numpy as np\n",
    "    labels_path = os.path.join(path, 'K%s-labels-idx1-ubyte.gz' % kind)\n",
    "    images_path = os.path.join(path, 'K%s-images-idx3-ubyte.gz' % kind)\n",
    "    with gzip.open(labels_path, 'rb') as lbpath:\n",
    "        labels = np.frombuffer(lbpath.read(), dtype=np.uint8,offset=8)\n",
    "    with gzip.open(images_path, 'rb') as imgpath:\n",
    "        images = np.frombuffer(imgpath.read(), dtype=np.uint8,offset=16).reshape(len(labels), 784)\n",
    "    return images, labels"
   ]
  },
  {
   "cell_type": "markdown",
   "metadata": {},
   "source": [
    "# TODO \n",
    "Set as seed for the random generator your Student ID (you can use your \"numero di matricola\"). Try to change the seed to see the impact of the randomization."
   ]
  },
  {
   "cell_type": "code",
   "execution_count": 3,
   "metadata": {},
   "outputs": [],
   "source": [
    "ID = 2081380 #Your_ID\n",
    "np.random.seed(ID)"
   ]
  },
  {
   "cell_type": "code",
   "execution_count": 4,
   "metadata": {},
   "outputs": [
    {
     "name": "stdout",
     "output_type": "stream",
     "text": [
      "Number of samples in the K-MNIST dataset: 60000\n"
     ]
    }
   ],
   "source": [
    "#load the MNIST dataset and let's normalize the features so that each value is in [0,1]\n",
    "X, y = load_mnist(\"data\")\n",
    "print(\"Number of samples in the K-MNIST dataset:\", X.shape[0])\n",
    "# rescale the data\n",
    "X = X / 255.0"
   ]
  },
  {
   "cell_type": "markdown",
   "metadata": {},
   "source": [
    "Now split into training and test. We start with a small training set of 600 samples to reduce computation time while 4000 samples will be used for testing. Make sure that each label is present at least 10 times in train and test set frequencies."
   ]
  },
  {
   "cell_type": "code",
   "execution_count": 5,
   "metadata": {},
   "outputs": [
    {
     "name": "stdout",
     "output_type": "stream",
     "text": [
      "Labels in training dataset:  [0 1 2 3 4 5 6 7 8 9]\n",
      "Frequencies in training dataset:  [55 60 68 70 42 54 67 49 51 84]\n",
      "Labels in test set:  [0 1 2 3 4 5 6 7 8 9]\n",
      "Frequencies in test set:  [408 422 398 392 374 411 382 414 396 403]\n"
     ]
    }
   ],
   "source": [
    "#random permute the data and split into training and test taking the first 600\n",
    "#data samples as training and 4000 as test set\n",
    "permutation = np.random.permutation(X.shape[0])\n",
    "\n",
    "X = X[permutation]\n",
    "y = y[permutation]\n",
    "\n",
    "m_training = 600\n",
    "m_test = 4000\n",
    "\n",
    "X_train, X_test = X[:m_training], X[m_training:m_training+m_test]\n",
    "y_train, y_test = y[:m_training], y[m_training:m_training+m_test]\n",
    "\n",
    "labels, freqs = np.unique(y_train, return_counts=True)\n",
    "print(\"Labels in training dataset: \", labels)\n",
    "print(\"Frequencies in training dataset: \", freqs)\n",
    "\n",
    "labelsT, freqsT = np.unique(y_test, return_counts=True)\n",
    "print(\"Labels in test set: \", labelsT)\n",
    "print(\"Frequencies in test set: \", freqsT)\n"
   ]
  },
  {
   "cell_type": "code",
   "execution_count": 6,
   "metadata": {},
   "outputs": [],
   "source": [
    "#function for plotting a image and printing the corresponding label\n",
    "def plot_input(X_matrix, labels, index):\n",
    "    print(\"INPUT:\")\n",
    "    plt.imshow(\n",
    "        X_matrix[index].reshape(28,28),\n",
    "        cmap          = plt.cm.gray_r,\n",
    "        interpolation = \"nearest\"\n",
    "    )\n",
    "    plt.show()\n",
    "    print(\"LABEL: %i\"%labels[index])\n",
    "    return"
   ]
  },
  {
   "cell_type": "code",
   "execution_count": 7,
   "metadata": {},
   "outputs": [
    {
     "name": "stdout",
     "output_type": "stream",
     "text": [
      "INPUT:\n"
     ]
    },
    {
     "data": {
      "image/png": "[encoded data removed]",
      "text/plain": [
       "<Figure size 640x480 with 1 Axes>"
      ]
     },
     "metadata": {},
     "output_type": "display_data"
    },
    {
     "name": "stdout",
     "output_type": "stream",
     "text": [
      "LABEL: 4\n",
      "INPUT:\n"
     ]
    },
    {
     "data": {
      "image/png": "[encoded data removed]",
      "text/plain": [
       "<Figure size 640x480 with 1 Axes>"
      ]
     },
     "metadata": {},
     "output_type": "display_data"
    },
    {
     "name": "stdout",
     "output_type": "stream",
     "text": [
      "LABEL: 7\n",
      "INPUT:\n"
     ]
    },
    {
     "data": {
      "image/png": "[encoded data removed]",
      "text/plain": [
       "<Figure size 640x480 with 1 Axes>"
      ]
     },
     "metadata": {},
     "output_type": "display_data"
    },
    {
     "name": "stdout",
     "output_type": "stream",
     "text": [
      "LABEL: 9\n"
     ]
    }
   ],
   "source": [
    "#let's try the plotting function\n",
    "plot_input(X_train,y_train,10)\n",
    "plot_input(X_test,y_test,100)\n",
    "plot_input(X_test,y_test,1000)"
   ]
  },
  {
   "cell_type": "markdown",
   "metadata": {},
   "source": [
    "### TO DO 1\n",
    "\n",
    "Now use a feed-forward Neural Network for prediction. Use the multi-layer perceptron classifier, with the following parameters: max_iter=100, alpha=1e-4, solver='sgd', tol=1e-4, learning_rate_init=.1, random_state=ID (this last parameter ensures the run is the same even if you run it more than once). The alpha parameter is the regularization term.\n",
    "\n",
    "Then, using the default activation function, pick four or five architectures to consider, with different numbers of hidden layers and different sizes. It is not necessary to create huge neural networks, you can limit to 3 layers and, for each layer, its maximum size can be of 50. Evaluate the architectures you chose using GridSearchCV with cv=5.\n",
    "\n",
    "You can reduce the number of iterations if the running time is too long on your computer.\n"
   ]
  },
  {
   "cell_type": "code",
   "execution_count": 8,
   "metadata": {},
   "outputs": [
    {
     "name": "stdout",
     "output_type": "stream",
     "text": [
      "\n",
      "Results of NN with different size of hidden layers:\n",
      "\n",
      "0.703 (+/-0.107) for {'hidden_layer_sizes': (10,)}\n",
      "0.722 (+/-0.093) for {'hidden_layer_sizes': (20,)}\n",
      "0.753 (+/-0.039) for {'hidden_layer_sizes': (40,)}\n",
      "0.737 (+/-0.043) for {'hidden_layer_sizes': (20, 20)}\n",
      "0.692 (+/-0.059) for {'hidden_layer_sizes': (20, 20, 20)}\n",
      "0.720 (+/-0.043) for {'hidden_layer_sizes': (40, 20, 10)}\n",
      "\n",
      "RESULTS FOR NN\n",
      "\n",
      "Best parameters set found:  {'hidden_layer_sizes': (40,)}\n",
      "Score with best parameters: 0.7533333333333333\n",
      "\n",
      "All scores on the grid:\n"
     ]
    },
    {
     "data": {
      "text/html": [
       "<div>\n",
       "<style scoped>\n",
       "    .dataframe tbody tr th:only-of-type {\n",
       "        vertical-align: middle;\n",
       "    }\n",
       "\n",
       "    .dataframe tbody tr th {\n",
       "        vertical-align: top;\n",
       "    }\n",
       "\n",
       "    .dataframe thead th {\n",
       "        text-align: right;\n",
       "    }\n",
       "</style>\n",
       "<table border=\"1\" class=\"dataframe\">\n",
       "  <thead>\n",
       "    <tr style=\"text-align: right;\">\n",
       "      <th></th>\n",
       "      <th>mean_fit_time</th>\n",
       "      <th>std_fit_time</th>\n",
       "      <th>mean_score_time</th>\n",
       "      <th>std_score_time</th>\n",
       "      <th>param_hidden_layer_sizes</th>\n",
       "      <th>params</th>\n",
       "      <th>split0_test_score</th>\n",
       "      <th>split1_test_score</th>\n",
       "      <th>split2_test_score</th>\n",
       "      <th>split3_test_score</th>\n",
       "      <th>split4_test_score</th>\n",
       "      <th>mean_test_score</th>\n",
       "      <th>std_test_score</th>\n",
       "      <th>rank_test_score</th>\n",
       "    </tr>\n",
       "  </thead>\n",
       "  <tbody>\n",
       "    <tr>\n",
       "      <th>0</th>\n",
       "      <td>0.262004</td>\n",
       "      <td>0.038964</td>\n",
       "      <td>0.000474</td>\n",
       "      <td>0.000592</td>\n",
       "      <td>(10,)</td>\n",
       "      <td>{'hidden_layer_sizes': (10,)}</td>\n",
       "      <td>0.666667</td>\n",
       "      <td>0.666667</td>\n",
       "      <td>0.808333</td>\n",
       "      <td>0.691667</td>\n",
       "      <td>0.683333</td>\n",
       "      <td>0.703333</td>\n",
       "      <td>0.053385</td>\n",
       "      <td>5</td>\n",
       "    </tr>\n",
       "    <tr>\n",
       "      <th>1</th>\n",
       "      <td>0.284612</td>\n",
       "      <td>0.029377</td>\n",
       "      <td>0.000000</td>\n",
       "      <td>0.000000</td>\n",
       "      <td>(20,)</td>\n",
       "      <td>{'hidden_layer_sizes': (20,)}</td>\n",
       "      <td>0.775000</td>\n",
       "      <td>0.658333</td>\n",
       "      <td>0.775000</td>\n",
       "      <td>0.708333</td>\n",
       "      <td>0.691667</td>\n",
       "      <td>0.721667</td>\n",
       "      <td>0.046428</td>\n",
       "      <td>3</td>\n",
       "    </tr>\n",
       "    <tr>\n",
       "      <th>2</th>\n",
       "      <td>0.268752</td>\n",
       "      <td>0.015309</td>\n",
       "      <td>0.003125</td>\n",
       "      <td>0.006250</td>\n",
       "      <td>(40,)</td>\n",
       "      <td>{'hidden_layer_sizes': (40,)}</td>\n",
       "      <td>0.741667</td>\n",
       "      <td>0.741667</td>\n",
       "      <td>0.791667</td>\n",
       "      <td>0.741667</td>\n",
       "      <td>0.750000</td>\n",
       "      <td>0.753333</td>\n",
       "      <td>0.019437</td>\n",
       "      <td>1</td>\n",
       "    </tr>\n",
       "    <tr>\n",
       "      <th>3</th>\n",
       "      <td>0.206403</td>\n",
       "      <td>0.011574</td>\n",
       "      <td>0.000000</td>\n",
       "      <td>0.000000</td>\n",
       "      <td>(20, 20)</td>\n",
       "      <td>{'hidden_layer_sizes': (20, 20)}</td>\n",
       "      <td>0.741667</td>\n",
       "      <td>0.716667</td>\n",
       "      <td>0.766667</td>\n",
       "      <td>0.750000</td>\n",
       "      <td>0.708333</td>\n",
       "      <td>0.736667</td>\n",
       "      <td>0.021473</td>\n",
       "      <td>2</td>\n",
       "    </tr>\n",
       "    <tr>\n",
       "      <th>4</th>\n",
       "      <td>0.259423</td>\n",
       "      <td>0.047061</td>\n",
       "      <td>0.000000</td>\n",
       "      <td>0.000000</td>\n",
       "      <td>(20, 20, 20)</td>\n",
       "      <td>{'hidden_layer_sizes': (20, 20, 20)}</td>\n",
       "      <td>0.691667</td>\n",
       "      <td>0.683333</td>\n",
       "      <td>0.725000</td>\n",
       "      <td>0.716667</td>\n",
       "      <td>0.641667</td>\n",
       "      <td>0.691667</td>\n",
       "      <td>0.029345</td>\n",
       "      <td>6</td>\n",
       "    </tr>\n",
       "  </tbody>\n",
       "</table>\n",
       "</div>"
      ],
      "text/plain": [
       "   mean_fit_time  std_fit_time  mean_score_time  std_score_time  \\\n",
       "0       0.262004      0.038964         0.000474        0.000592   \n",
       "1       0.284612      0.029377         0.000000        0.000000   \n",
       "2       0.268752      0.015309         0.003125        0.006250   \n",
       "3       0.206403      0.011574         0.000000        0.000000   \n",
       "4       0.259423      0.047061         0.000000        0.000000   \n",
       "\n",
       "  param_hidden_layer_sizes                                params  \\\n",
       "0                    (10,)         {'hidden_layer_sizes': (10,)}   \n",
       "1                    (20,)         {'hidden_layer_sizes': (20,)}   \n",
       "2                    (40,)         {'hidden_layer_sizes': (40,)}   \n",
       "3                 (20, 20)      {'hidden_layer_sizes': (20, 20)}   \n",
       "4             (20, 20, 20)  {'hidden_layer_sizes': (20, 20, 20)}   \n",
       "\n",
       "   split0_test_score  split1_test_score  split2_test_score  split3_test_score  \\\n",
       "0           0.666667           0.666667           0.808333           0.691667   \n",
       "1           0.775000           0.658333           0.775000           0.708333   \n",
       "2           0.741667           0.741667           0.791667           0.741667   \n",
       "3           0.741667           0.716667           0.766667           0.750000   \n",
       "4           0.691667           0.683333           0.725000           0.716667   \n",
       "\n",
       "   split4_test_score  mean_test_score  std_test_score  rank_test_score  \n",
       "0           0.683333         0.703333        0.053385                5  \n",
       "1           0.691667         0.721667        0.046428                3  \n",
       "2           0.750000         0.753333        0.019437                1  \n",
       "3           0.708333         0.736667        0.021473                2  \n",
       "4           0.641667         0.691667        0.029345                6  "
      ]
     },
     "execution_count": 8,
     "metadata": {},
     "output_type": "execute_result"
    }
   ],
   "source": [
    "# these are sample values but feel free to change them as you like, try to experiment with different sizes!!\n",
    "parameters = {'hidden_layer_sizes': [(10,), (20,), (40,), (20,20,), (20,20,20), (40,20,10) ]}\n",
    "\n",
    "mlp = MLPClassifier(max_iter=100, alpha=1e-4, solver='sgd',\n",
    "                    tol=1e-4, random_state=ID,\n",
    "                    learning_rate_init=.1)\n",
    "\n",
    "clf = GridSearchCV(mlp, parameters, cv=5)\n",
    "clf.fit(X_train,y_train)\n",
    "\n",
    "#comparing architectures with different numbers of hidden layers and different sizes\n",
    "print(\"\\nResults of NN with different size of hidden layers:\\n\")\n",
    "means = clf.cv_results_['mean_test_score']\n",
    "stds = clf.cv_results_['std_test_score']\n",
    "\n",
    "for mean, std, params in zip(means, stds, clf.cv_results_['params']):\n",
    "    print(\"%0.3f (+/-%0.03f) for %r\" % (mean, std * 2, params))\n",
    "\n",
    "print ('\\nRESULTS FOR NN\\n')\n",
    "print(\"Best parameters set found: \", clf.best_params_)\n",
    "print(\"Score with best parameters:\", clf.best_score_)\n",
    "print(\"\\nAll scores on the grid:\")\n",
    "df = pd.DataFrame(clf.cv_results_)\n",
    "df.head()"
   ]
  },
  {
   "cell_type": "markdown",
   "metadata": {},
   "source": [
    "### TO DO 2\n",
    "\n",
    "Now try also different batch sizes, while keeping the best NN architecture you have found above. Remember that the batch size was previously set to the default value, i.e., min(200, n_samples). \n",
    "Recall that a batch size of 1 corresponds to baseline SGD, while using all the 480 training samples (there are 600 samples but in cross validation with 5 folders we use 1/5 of them for validation at each round) corresponds to standard GD and using a different mini-batch size lies in the middle between the two extreme cases."
   ]
  },
  {
   "cell_type": "code",
   "execution_count": 90,
   "metadata": {},
   "outputs": [
    {
     "name": "stderr",
     "output_type": "stream",
     "text": [
      "C:\\Users\\gozde\\anaconda3\\lib\\site-packages\\sklearn\\neural_network\\_multilayer_perceptron.py:692: ConvergenceWarning: Stochastic Optimizer: Maximum iterations (100) reached and the optimization hasn't converged yet.\n",
      "  warnings.warn(\n",
      "C:\\Users\\gozde\\anaconda3\\lib\\site-packages\\sklearn\\neural_network\\_multilayer_perceptron.py:692: ConvergenceWarning: Stochastic Optimizer: Maximum iterations (100) reached and the optimization hasn't converged yet.\n",
      "  warnings.warn(\n",
      "C:\\Users\\gozde\\anaconda3\\lib\\site-packages\\sklearn\\neural_network\\_multilayer_perceptron.py:692: ConvergenceWarning: Stochastic Optimizer: Maximum iterations (100) reached and the optimization hasn't converged yet.\n",
      "  warnings.warn(\n",
      "C:\\Users\\gozde\\anaconda3\\lib\\site-packages\\sklearn\\neural_network\\_multilayer_perceptron.py:692: ConvergenceWarning: Stochastic Optimizer: Maximum iterations (100) reached and the optimization hasn't converged yet.\n",
      "  warnings.warn(\n",
      "C:\\Users\\gozde\\anaconda3\\lib\\site-packages\\sklearn\\neural_network\\_multilayer_perceptron.py:692: ConvergenceWarning: Stochastic Optimizer: Maximum iterations (100) reached and the optimization hasn't converged yet.\n",
      "  warnings.warn(\n"
     ]
    },
    {
     "name": "stdout",
     "output_type": "stream",
     "text": [
      "\n",
      "Results of NN with different batch sizes:\n",
      "\n",
      "0.105 (+/-0.034) for {'batch_size': 1}\n",
      "0.718 (+/-0.098) for {'batch_size': 32}\n",
      "0.733 (+/-0.043) for {'batch_size': 480}\n",
      "\n",
      "RESULTS FOR NN\n",
      "\n",
      "Best parameters set found: {'batch_size': 480}\n",
      "Score with best parameters: 0.7333333333333333\n",
      "\n",
      "All scores on the grid:\n"
     ]
    },
    {
     "name": "stderr",
     "output_type": "stream",
     "text": [
      "C:\\Users\\gozde\\anaconda3\\lib\\site-packages\\sklearn\\neural_network\\_multilayer_perceptron.py:692: ConvergenceWarning: Stochastic Optimizer: Maximum iterations (100) reached and the optimization hasn't converged yet.\n",
      "  warnings.warn(\n"
     ]
    },
    {
     "data": {
      "text/html": [
       "<div>\n",
       "<style scoped>\n",
       "    .dataframe tbody tr th:only-of-type {\n",
       "        vertical-align: middle;\n",
       "    }\n",
       "\n",
       "    .dataframe tbody tr th {\n",
       "        vertical-align: top;\n",
       "    }\n",
       "\n",
       "    .dataframe thead th {\n",
       "        text-align: right;\n",
       "    }\n",
       "</style>\n",
       "<table border=\"1\" class=\"dataframe\">\n",
       "  <thead>\n",
       "    <tr style=\"text-align: right;\">\n",
       "      <th></th>\n",
       "      <th>mean_fit_time</th>\n",
       "      <th>std_fit_time</th>\n",
       "      <th>mean_score_time</th>\n",
       "      <th>std_score_time</th>\n",
       "      <th>param_batch_size</th>\n",
       "      <th>params</th>\n",
       "      <th>split0_test_score</th>\n",
       "      <th>split1_test_score</th>\n",
       "      <th>split2_test_score</th>\n",
       "      <th>split3_test_score</th>\n",
       "      <th>split4_test_score</th>\n",
       "      <th>mean_test_score</th>\n",
       "      <th>std_test_score</th>\n",
       "      <th>rank_test_score</th>\n",
       "    </tr>\n",
       "  </thead>\n",
       "  <tbody>\n",
       "    <tr>\n",
       "      <th>0</th>\n",
       "      <td>5.685977</td>\n",
       "      <td>3.084540</td>\n",
       "      <td>0.000801</td>\n",
       "      <td>0.000400</td>\n",
       "      <td>1</td>\n",
       "      <td>{'batch_size': 1}</td>\n",
       "      <td>0.10</td>\n",
       "      <td>0.125000</td>\n",
       "      <td>0.108333</td>\n",
       "      <td>0.116667</td>\n",
       "      <td>0.075000</td>\n",
       "      <td>0.105000</td>\n",
       "      <td>0.017159</td>\n",
       "      <td>3</td>\n",
       "    </tr>\n",
       "    <tr>\n",
       "      <th>1</th>\n",
       "      <td>0.255999</td>\n",
       "      <td>0.028764</td>\n",
       "      <td>0.000400</td>\n",
       "      <td>0.000490</td>\n",
       "      <td>32</td>\n",
       "      <td>{'batch_size': 32}</td>\n",
       "      <td>0.75</td>\n",
       "      <td>0.733333</td>\n",
       "      <td>0.633333</td>\n",
       "      <td>0.700000</td>\n",
       "      <td>0.775000</td>\n",
       "      <td>0.718333</td>\n",
       "      <td>0.048990</td>\n",
       "      <td>2</td>\n",
       "    </tr>\n",
       "    <tr>\n",
       "      <th>2</th>\n",
       "      <td>0.262200</td>\n",
       "      <td>0.006615</td>\n",
       "      <td>0.000802</td>\n",
       "      <td>0.000401</td>\n",
       "      <td>480</td>\n",
       "      <td>{'batch_size': 480}</td>\n",
       "      <td>0.75</td>\n",
       "      <td>0.758333</td>\n",
       "      <td>0.700000</td>\n",
       "      <td>0.716667</td>\n",
       "      <td>0.741667</td>\n",
       "      <td>0.733333</td>\n",
       "      <td>0.021731</td>\n",
       "      <td>1</td>\n",
       "    </tr>\n",
       "  </tbody>\n",
       "</table>\n",
       "</div>"
      ],
      "text/plain": [
       "   mean_fit_time  std_fit_time  mean_score_time  std_score_time  \\\n",
       "0       5.685977      3.084540         0.000801        0.000400   \n",
       "1       0.255999      0.028764         0.000400        0.000490   \n",
       "2       0.262200      0.006615         0.000802        0.000401   \n",
       "\n",
       "  param_batch_size               params  split0_test_score  split1_test_score  \\\n",
       "0                1    {'batch_size': 1}               0.10           0.125000   \n",
       "1               32   {'batch_size': 32}               0.75           0.733333   \n",
       "2              480  {'batch_size': 480}               0.75           0.758333   \n",
       "\n",
       "   split2_test_score  split3_test_score  split4_test_score  mean_test_score  \\\n",
       "0           0.108333           0.116667           0.075000         0.105000   \n",
       "1           0.633333           0.700000           0.775000         0.718333   \n",
       "2           0.700000           0.716667           0.741667         0.733333   \n",
       "\n",
       "   std_test_score  rank_test_score  \n",
       "0        0.017159                3  \n",
       "1        0.048990                2  \n",
       "2        0.021731                1  "
      ]
     },
     "execution_count": 90,
     "metadata": {},
     "output_type": "execute_result"
    }
   ],
   "source": [
    "# these are sample values corresponding to baseline SGD, a reasonable mini-batch size and standard GD\n",
    "# again feel free to change them as you like, try to experiment with different batch sizes!!\n",
    "parameters = {'batch_size': [1, 32, 480]}\n",
    "\n",
    "# need to specify that you would like to use the standard k-fold split otherwise sklearn create splits of different sizes\n",
    "kf = sklearn.model_selection.KFold(n_splits=5)\n",
    "\n",
    "mlp = MLPClassifier(max_iter=100, alpha=1e-4, solver='sgd',\n",
    "                    tol=1e-4, random_state=ID, hidden_layer_sizes=(40,),\n",
    "                    learning_rate_init=.1)\n",
    "\n",
    "# recall to use cv=kf to use the k-fold subdivision seen in the lectures\n",
    "\n",
    "clf = GridSearchCV(mlp, parameters, cv=kf)\n",
    "clf.fit(X_train,y_train)\n",
    "\n",
    "#comparing architectures with different numbers of hidden layers and different sizes\n",
    "print(\"\\nResults of NN with different batch sizes:\\n\")\n",
    "means = clf.cv_results_['mean_test_score']\n",
    "stds = clf.cv_results_['std_test_score']\n",
    "\n",
    "for mean, std, params in zip(means, stds, clf.cv_results_['params']):\n",
    "    print(\"%0.3f (+/-%0.03f) for %r\" % (mean, std * 2, params))\n",
    "\n",
    "\n",
    "print ('\\nRESULTS FOR NN\\n')\n",
    "print(\"Best parameters set found:\", clf.best_params_)\n",
    "print(\"Score with best parameters:\", clf.best_score_)\n",
    "\n",
    "print(\"\\nAll scores on the grid:\")\n",
    "df = pd.DataFrame(clf.cv_results_)\n",
    "df.head()\n",
    "#I get the warning below. When I change the max_iter to 500, \n",
    "#it solved but I left the max_iter as 100."
   ]
  },
  {
   "cell_type": "markdown",
   "metadata": {},
   "source": [
    "### QUESTION 1\n",
    "\n",
    "What do you observe for different architectures and batch sizes? How do the number of layers and their sizes affect the performances? What do you observe for different batch sizes, in particular what happens to the training convergence for different batch sizes (notice that the algorithm could not converge for some batch sizes)?"
   ]
  },
  {
   "cell_type": "markdown",
   "metadata": {},
   "source": [
    "## [ANSWER TO QUESTION 1]\n",
    "\n",
    "With different architectures and batch sizes, the performance of the nn differed. As the number of layers increases, (comparing (20,) and (20,20)) the performsnce get better. As the sizes of hidden layers increases, (comparing (10,) (20,) (40,)) again, the performance get better. \n",
    "As the batch size increases, the performance get better. The best result is with 480 batch size."
   ]
  },
  {
   "cell_type": "markdown",
   "metadata": {},
   "source": [
    "### TODO 3:\n",
    "\n",
    "Plot the train and test accuracies as a function of the number of learnable parameters in your neural network. Print also the computation time for the various configurations you try (the code for getting the computation time is already provided). You can use 100 iterations (if you get a warning on convergence not reached it is not an issue for this lab)"
   ]
  },
  {
   "cell_type": "code",
   "execution_count": 117,
   "metadata": {},
   "outputs": [
    {
     "name": "stdout",
     "output_type": "stream",
     "text": [
      "Training MLP of size (10,) ...\n"
     ]
    },
    {
     "name": "stderr",
     "output_type": "stream",
     "text": [
      "C:\\Users\\gozde\\anaconda3\\lib\\site-packages\\sklearn\\neural_network\\_multilayer_perceptron.py:692: ConvergenceWarning: Stochastic Optimizer: Maximum iterations (100) reached and the optimization hasn't converged yet.\n",
      "  warnings.warn(\n"
     ]
    },
    {
     "name": "stdout",
     "output_type": "stream",
     "text": [
      "Done, training time: 0.52 sec\n",
      "\n",
      "Training MLP of size (20,) ...\n",
      "Done, training time: 0.46 sec\n",
      "\n",
      "Training MLP of size (40,) ...\n",
      "Done, training time: 0.55 sec\n",
      "\n",
      "Training MLP of size (20, 20) ...\n",
      "Done, training time: 0.38 sec\n",
      "\n",
      "Training MLP of size (40, 20, 10) ...\n",
      "Done, training time: 0.49 sec\n",
      "\n"
     ]
    },
    {
     "data": {
      "image/png": "[encoded data removed]",
      "text/plain": [
       "<Figure size 1500x500 with 2 Axes>"
      ]
     },
     "metadata": {},
     "output_type": "display_data"
    }
   ],
   "source": [
    "import time\n",
    "from functools import reduce\n",
    "\n",
    "# Function to compute the number of learnable parameters of a mlp given the size of its hidden layers\n",
    "def param_count(hl_size):\n",
    "    tot = 0\n",
    "    input_size, output_size = X_train.shape[1], len(labels)\n",
    "    tot += (input_size+1)*hl_size[0]\n",
    "    for i in range(1,len(hl_size)):\n",
    "        tot += (hl_size[i-1]+1)*hl_size[i]\n",
    "    tot += (hl_size[-1]+1)*output_size\n",
    "    return tot\n",
    "\n",
    "hl_sizes = [(10,), (20,), (40,), (20,20,), (40,20,10)]\n",
    "hl_labels = [param_count(t) for t in hl_sizes]\n",
    "\n",
    "ti = time.time()\n",
    "train_acc_list, test_acc_list = [], []\n",
    "for hl_size in hl_sizes:\n",
    "    print('Training MLP of size {} ...'.format(hl_size))\n",
    "    mlp = MLPClassifier(max_iter=100, alpha=1e-4, solver='sgd',\n",
    "                    tol=1e-4, random_state=ID, hidden_layer_sizes=hl_size,\n",
    "                    learning_rate_init=.1)\n",
    "    \n",
    "    mlp.fit(X_train, y_train)\n",
    "    \n",
    "    train_acc_list.append(mlp.score(X_train, y_train))\n",
    "    test_acc_list.append(mlp.score(X_test, y_test))\n",
    "    print('Done, training time: {:.2f} sec\\n'.format(time.time()-ti))\n",
    "    ti = time.time()\n",
    "\n",
    "fig, ax = plt.subplots(1,2, figsize=(15,5))\n",
    "\n",
    "\n",
    "ax[0].plot(train_acc_list)\n",
    "ax[0].set_xlabel('Number of learnable params')\n",
    "ax[0].set_title('Train accuracy')\n",
    "ax[0].set_xticks(np.arange(0,len(hl_labels)))\n",
    "ax[0].set_xticklabels(hl_labels)\n",
    "ax[0].grid(True)\n",
    "\n",
    "ax[1].plot(test_acc_list)\n",
    "ax[1].set_xlabel('Number of learnable params')\n",
    "ax[1].set_title('Test accuracy')\n",
    "ax[1].set_xticks(np.arange(0,len(hl_labels)))\n",
    "ax[1].set_xticklabels(hl_labels)\n",
    "ax[1].grid(True)\n"
   ]
  },
  {
   "cell_type": "markdown",
   "metadata": {},
   "source": [
    "## Question 2:\n",
    "\n",
    "Comment about the training and test accuracies referring to the discussion on underfitting and overfitting we did in the course"
   ]
  },
  {
   "cell_type": "markdown",
   "metadata": {},
   "source": [
    "## [ANSWER TO QUESTION 2]\n",
    "\n",
    "In the training accuracy, it starts to increase and get stable after some point. Test accuracy also starts to increase at the beggining, but after some point, this increase get slower, than it starts to decrease. This means overfitting. In the overfitting, the model memorizes the training data instead of leraning. And when givivng new data that the model did not see before, it fails the label it correctly. This is why the test accuracy starts to decrease after some point. "
   ]
  },
  {
   "cell_type": "markdown",
   "metadata": {},
   "source": [
    "### TO DO 4\n",
    "\n",
    "Now try also to use different learning rates, while keeping the best NN architecture and batch size you have found above. Plot the learning curves (i.e., the variation of the loss over the steps, you can get it from the loss_curve_ object of sklearn) for the different values of the learning rate. Try to run each training for 100 iterations. "
   ]
  },
  {
   "cell_type": "code",
   "execution_count": 9,
   "metadata": {},
   "outputs": [
    {
     "name": "stderr",
     "output_type": "stream",
     "text": [
      "C:\\Users\\gozde\\anaconda3\\lib\\site-packages\\sklearn\\neural_network\\_multilayer_perceptron.py:692: ConvergenceWarning: Stochastic Optimizer: Maximum iterations (100) reached and the optimization hasn't converged yet.\n",
      "  warnings.warn(\n",
      "C:\\Users\\gozde\\anaconda3\\lib\\site-packages\\sklearn\\neural_network\\_multilayer_perceptron.py:692: ConvergenceWarning: Stochastic Optimizer: Maximum iterations (100) reached and the optimization hasn't converged yet.\n",
      "  warnings.warn(\n",
      "C:\\Users\\gozde\\anaconda3\\lib\\site-packages\\sklearn\\neural_network\\_multilayer_perceptron.py:692: ConvergenceWarning: Stochastic Optimizer: Maximum iterations (100) reached and the optimization hasn't converged yet.\n",
      "  warnings.warn(\n",
      "C:\\Users\\gozde\\anaconda3\\lib\\site-packages\\sklearn\\neural_network\\_multilayer_perceptron.py:692: ConvergenceWarning: Stochastic Optimizer: Maximum iterations (100) reached and the optimization hasn't converged yet.\n",
      "  warnings.warn(\n",
      "C:\\Users\\gozde\\anaconda3\\lib\\site-packages\\sklearn\\neural_network\\_multilayer_perceptron.py:692: ConvergenceWarning: Stochastic Optimizer: Maximum iterations (100) reached and the optimization hasn't converged yet.\n",
      "  warnings.warn(\n",
      "C:\\Users\\gozde\\anaconda3\\lib\\site-packages\\sklearn\\neural_network\\_multilayer_perceptron.py:692: ConvergenceWarning: Stochastic Optimizer: Maximum iterations (100) reached and the optimization hasn't converged yet.\n",
      "  warnings.warn(\n"
     ]
    },
    {
     "name": "stdout",
     "output_type": "stream",
     "text": [
      "score with learning rate 0.0002:  0.12166666666666667\n"
     ]
    },
    {
     "name": "stderr",
     "output_type": "stream",
     "text": [
      "C:\\Users\\gozde\\anaconda3\\lib\\site-packages\\sklearn\\neural_network\\_multilayer_perceptron.py:692: ConvergenceWarning: Stochastic Optimizer: Maximum iterations (100) reached and the optimization hasn't converged yet.\n",
      "  warnings.warn(\n",
      "C:\\Users\\gozde\\anaconda3\\lib\\site-packages\\sklearn\\neural_network\\_multilayer_perceptron.py:692: ConvergenceWarning: Stochastic Optimizer: Maximum iterations (100) reached and the optimization hasn't converged yet.\n",
      "  warnings.warn(\n",
      "C:\\Users\\gozde\\anaconda3\\lib\\site-packages\\sklearn\\neural_network\\_multilayer_perceptron.py:692: ConvergenceWarning: Stochastic Optimizer: Maximum iterations (100) reached and the optimization hasn't converged yet.\n",
      "  warnings.warn(\n",
      "C:\\Users\\gozde\\anaconda3\\lib\\site-packages\\sklearn\\neural_network\\_multilayer_perceptron.py:692: ConvergenceWarning: Stochastic Optimizer: Maximum iterations (100) reached and the optimization hasn't converged yet.\n",
      "  warnings.warn(\n",
      "C:\\Users\\gozde\\anaconda3\\lib\\site-packages\\sklearn\\neural_network\\_multilayer_perceptron.py:692: ConvergenceWarning: Stochastic Optimizer: Maximum iterations (100) reached and the optimization hasn't converged yet.\n",
      "  warnings.warn(\n",
      "C:\\Users\\gozde\\anaconda3\\lib\\site-packages\\sklearn\\neural_network\\_multilayer_perceptron.py:692: ConvergenceWarning: Stochastic Optimizer: Maximum iterations (100) reached and the optimization hasn't converged yet.\n",
      "  warnings.warn(\n"
     ]
    },
    {
     "name": "stdout",
     "output_type": "stream",
     "text": [
      "score with learning rate 0.002:  0.5516666666666667\n"
     ]
    },
    {
     "name": "stderr",
     "output_type": "stream",
     "text": [
      "C:\\Users\\gozde\\anaconda3\\lib\\site-packages\\sklearn\\neural_network\\_multilayer_perceptron.py:692: ConvergenceWarning: Stochastic Optimizer: Maximum iterations (100) reached and the optimization hasn't converged yet.\n",
      "  warnings.warn(\n",
      "C:\\Users\\gozde\\anaconda3\\lib\\site-packages\\sklearn\\neural_network\\_multilayer_perceptron.py:692: ConvergenceWarning: Stochastic Optimizer: Maximum iterations (100) reached and the optimization hasn't converged yet.\n",
      "  warnings.warn(\n",
      "C:\\Users\\gozde\\anaconda3\\lib\\site-packages\\sklearn\\neural_network\\_multilayer_perceptron.py:692: ConvergenceWarning: Stochastic Optimizer: Maximum iterations (100) reached and the optimization hasn't converged yet.\n",
      "  warnings.warn(\n",
      "C:\\Users\\gozde\\anaconda3\\lib\\site-packages\\sklearn\\neural_network\\_multilayer_perceptron.py:692: ConvergenceWarning: Stochastic Optimizer: Maximum iterations (100) reached and the optimization hasn't converged yet.\n",
      "  warnings.warn(\n",
      "C:\\Users\\gozde\\anaconda3\\lib\\site-packages\\sklearn\\neural_network\\_multilayer_perceptron.py:692: ConvergenceWarning: Stochastic Optimizer: Maximum iterations (100) reached and the optimization hasn't converged yet.\n",
      "  warnings.warn(\n",
      "C:\\Users\\gozde\\anaconda3\\lib\\site-packages\\sklearn\\neural_network\\_multilayer_perceptron.py:692: ConvergenceWarning: Stochastic Optimizer: Maximum iterations (100) reached and the optimization hasn't converged yet.\n",
      "  warnings.warn(\n"
     ]
    },
    {
     "name": "stdout",
     "output_type": "stream",
     "text": [
      "score with learning rate 0.02:  0.7350000000000001\n",
      "score with learning rate 0.2:  0.76\n"
     ]
    }
   ],
   "source": [
    "import matplotlib.pyplot as plt\n",
    "import operator\n",
    "\n",
    "#best architecture is with hidden layer (40,) and best batch size is 480\n",
    "parameters = {'hidden_layer_sizes': [(40,)], 'batch_size': [480]}\n",
    "lr_list = [0.0002, 0.002, 0.02, 0.2]\n",
    "scores = []\n",
    "\n",
    "mlp = MLPClassifier(max_iter=100, alpha=1e-4, solver='sgd',\n",
    "                    tol=1e-4, random_state=ID,\n",
    "                    learning_rate_init=0.0002)\n",
    "\n",
    "clf = GridSearchCV(mlp, parameters, cv=5)\n",
    "clf.fit(X_train, y_train)\n",
    "print(\"score with learning rate 0.0002: \", clf.best_score_ )\n",
    "\n",
    "mlp1 = MLPClassifier(max_iter=100, alpha=1e-4, solver='sgd',\n",
    "                    tol=1e-4, random_state=ID,\n",
    "                    learning_rate_init=0.002)\n",
    "\n",
    "clf1 = GridSearchCV(mlp1, parameters, cv=5)\n",
    "clf1.fit(X_train, y_train)\n",
    "print(\"score with learning rate 0.002: \", clf1.best_score_ )\n",
    "\n",
    "mlp2 = MLPClassifier(max_iter=100, alpha=1e-4, solver='sgd',\n",
    "                    tol=1e-4, random_state=ID,\n",
    "                    learning_rate_init=0.02)\n",
    "\n",
    "clf2 = GridSearchCV(mlp2, parameters, cv=5)\n",
    "clf2.fit(X_train, y_train)\n",
    "print(\"score with learning rate 0.02: \", clf2.best_score_ )\n",
    "\n",
    "mlp3 = MLPClassifier(max_iter=100, alpha=1e-4, solver='sgd',\n",
    "                    tol=1e-4, random_state=ID,\n",
    "                    learning_rate_init=0.2)\n",
    "\n",
    "clf3 = GridSearchCV(mlp3, parameters, cv=5)\n",
    "clf3.fit(X_train, y_train)\n",
    "print(\"score with learning rate 0.2: \", clf3.best_score_ )\n",
    "\n",
    "\"\"\"\n",
    "parameters = {'hidden_layer_sizes': [(40,)], 'batch_size': [480]}\n",
    "lr_list = [0.0002, 0.002, 0.02, 0.2]\n",
    "for lr in lr_list:\n",
    "    mlp = MLPClassifier(max_iter=100, alpha=1e-4, solver='sgd',\n",
    "                    tol=1e-4, random_state=ID,\n",
    "                    learning_rate_init=lr)\n",
    "    clf = GridSearchCV(mlp, parameters, cv=5)\n",
    "    clf.fit(X_train, y_train)\n",
    "    print(\"score with learning rate 0.0002: \", clf.best_score_ )\n",
    "\"\"\"\n",
    "#when I run the code with for loop, I get too many error of\n",
    "#ConvergenceWarning: Stochastic Optimizer: Maximum iterations (100) reached and the optimization hasn't converged yet.\n",
    "#Also, it took so much time. so, i run the code as above, seperately for every different learning rate. \n",
    "#The code with for loop also worked well. I also left it below. "
   ]
  },
  {
   "cell_type": "code",
   "execution_count": 17,
   "metadata": {},
   "outputs": [
    {
     "name": "stderr",
     "output_type": "stream",
     "text": [
      "C:\\Users\\gozde\\anaconda3\\lib\\site-packages\\sklearn\\neural_network\\_multilayer_perceptron.py:692: ConvergenceWarning: Stochastic Optimizer: Maximum iterations (100) reached and the optimization hasn't converged yet.\n",
      "  warnings.warn(\n",
      "C:\\Users\\gozde\\anaconda3\\lib\\site-packages\\sklearn\\neural_network\\_multilayer_perceptron.py:692: ConvergenceWarning: Stochastic Optimizer: Maximum iterations (100) reached and the optimization hasn't converged yet.\n",
      "  warnings.warn(\n",
      "C:\\Users\\gozde\\anaconda3\\lib\\site-packages\\sklearn\\neural_network\\_multilayer_perceptron.py:692: ConvergenceWarning: Stochastic Optimizer: Maximum iterations (100) reached and the optimization hasn't converged yet.\n",
      "  warnings.warn(\n",
      "C:\\Users\\gozde\\anaconda3\\lib\\site-packages\\sklearn\\neural_network\\_multilayer_perceptron.py:692: ConvergenceWarning: Stochastic Optimizer: Maximum iterations (100) reached and the optimization hasn't converged yet.\n",
      "  warnings.warn(\n",
      "C:\\Users\\gozde\\anaconda3\\lib\\site-packages\\sklearn\\neural_network\\_multilayer_perceptron.py:692: ConvergenceWarning: Stochastic Optimizer: Maximum iterations (100) reached and the optimization hasn't converged yet.\n",
      "  warnings.warn(\n",
      "C:\\Users\\gozde\\anaconda3\\lib\\site-packages\\sklearn\\neural_network\\_multilayer_perceptron.py:692: ConvergenceWarning: Stochastic Optimizer: Maximum iterations (100) reached and the optimization hasn't converged yet.\n",
      "  warnings.warn(\n",
      "C:\\Users\\gozde\\anaconda3\\lib\\site-packages\\sklearn\\neural_network\\_multilayer_perceptron.py:692: ConvergenceWarning: Stochastic Optimizer: Maximum iterations (100) reached and the optimization hasn't converged yet.\n",
      "  warnings.warn(\n",
      "C:\\Users\\gozde\\anaconda3\\lib\\site-packages\\sklearn\\neural_network\\_multilayer_perceptron.py:692: ConvergenceWarning: Stochastic Optimizer: Maximum iterations (100) reached and the optimization hasn't converged yet.\n",
      "  warnings.warn(\n",
      "C:\\Users\\gozde\\anaconda3\\lib\\site-packages\\sklearn\\neural_network\\_multilayer_perceptron.py:692: ConvergenceWarning: Stochastic Optimizer: Maximum iterations (100) reached and the optimization hasn't converged yet.\n",
      "  warnings.warn(\n",
      "C:\\Users\\gozde\\anaconda3\\lib\\site-packages\\sklearn\\neural_network\\_multilayer_perceptron.py:692: ConvergenceWarning: Stochastic Optimizer: Maximum iterations (100) reached and the optimization hasn't converged yet.\n",
      "  warnings.warn(\n",
      "C:\\Users\\gozde\\anaconda3\\lib\\site-packages\\sklearn\\neural_network\\_multilayer_perceptron.py:692: ConvergenceWarning: Stochastic Optimizer: Maximum iterations (100) reached and the optimization hasn't converged yet.\n",
      "  warnings.warn(\n",
      "C:\\Users\\gozde\\anaconda3\\lib\\site-packages\\sklearn\\neural_network\\_multilayer_perceptron.py:692: ConvergenceWarning: Stochastic Optimizer: Maximum iterations (100) reached and the optimization hasn't converged yet.\n",
      "  warnings.warn(\n",
      "C:\\Users\\gozde\\anaconda3\\lib\\site-packages\\sklearn\\neural_network\\_multilayer_perceptron.py:692: ConvergenceWarning: Stochastic Optimizer: Maximum iterations (100) reached and the optimization hasn't converged yet.\n",
      "  warnings.warn(\n",
      "C:\\Users\\gozde\\anaconda3\\lib\\site-packages\\sklearn\\neural_network\\_multilayer_perceptron.py:692: ConvergenceWarning: Stochastic Optimizer: Maximum iterations (100) reached and the optimization hasn't converged yet.\n",
      "  warnings.warn(\n",
      "C:\\Users\\gozde\\anaconda3\\lib\\site-packages\\sklearn\\neural_network\\_multilayer_perceptron.py:692: ConvergenceWarning: Stochastic Optimizer: Maximum iterations (100) reached and the optimization hasn't converged yet.\n",
      "  warnings.warn(\n",
      "C:\\Users\\gozde\\anaconda3\\lib\\site-packages\\sklearn\\neural_network\\_multilayer_perceptron.py:692: ConvergenceWarning: Stochastic Optimizer: Maximum iterations (100) reached and the optimization hasn't converged yet.\n",
      "  warnings.warn(\n",
      "C:\\Users\\gozde\\anaconda3\\lib\\site-packages\\sklearn\\neural_network\\_multilayer_perceptron.py:692: ConvergenceWarning: Stochastic Optimizer: Maximum iterations (100) reached and the optimization hasn't converged yet.\n",
      "  warnings.warn(\n",
      "C:\\Users\\gozde\\anaconda3\\lib\\site-packages\\sklearn\\neural_network\\_multilayer_perceptron.py:692: ConvergenceWarning: Stochastic Optimizer: Maximum iterations (100) reached and the optimization hasn't converged yet.\n",
      "  warnings.warn(\n",
      "C:\\Users\\gozde\\anaconda3\\lib\\site-packages\\sklearn\\neural_network\\_multilayer_perceptron.py:692: ConvergenceWarning: Stochastic Optimizer: Maximum iterations (100) reached and the optimization hasn't converged yet.\n",
      "  warnings.warn(\n",
      "C:\\Users\\gozde\\anaconda3\\lib\\site-packages\\sklearn\\neural_network\\_multilayer_perceptron.py:692: ConvergenceWarning: Stochastic Optimizer: Maximum iterations (100) reached and the optimization hasn't converged yet.\n",
      "  warnings.warn(\n",
      "C:\\Users\\gozde\\anaconda3\\lib\\site-packages\\sklearn\\neural_network\\_multilayer_perceptron.py:692: ConvergenceWarning: Stochastic Optimizer: Maximum iterations (100) reached and the optimization hasn't converged yet.\n",
      "  warnings.warn(\n",
      "C:\\Users\\gozde\\anaconda3\\lib\\site-packages\\sklearn\\neural_network\\_multilayer_perceptron.py:692: ConvergenceWarning: Stochastic Optimizer: Maximum iterations (100) reached and the optimization hasn't converged yet.\n",
      "  warnings.warn(\n",
      "C:\\Users\\gozde\\anaconda3\\lib\\site-packages\\sklearn\\neural_network\\_multilayer_perceptron.py:692: ConvergenceWarning: Stochastic Optimizer: Maximum iterations (100) reached and the optimization hasn't converged yet.\n",
      "  warnings.warn(\n",
      "C:\\Users\\gozde\\anaconda3\\lib\\site-packages\\sklearn\\neural_network\\_multilayer_perceptron.py:692: ConvergenceWarning: Stochastic Optimizer: Maximum iterations (100) reached and the optimization hasn't converged yet.\n",
      "  warnings.warn(\n",
      "C:\\Users\\gozde\\anaconda3\\lib\\site-packages\\sklearn\\neural_network\\_multilayer_perceptron.py:692: ConvergenceWarning: Stochastic Optimizer: Maximum iterations (100) reached and the optimization hasn't converged yet.\n",
      "  warnings.warn(\n",
      "C:\\Users\\gozde\\anaconda3\\lib\\site-packages\\sklearn\\neural_network\\_multilayer_perceptron.py:692: ConvergenceWarning: Stochastic Optimizer: Maximum iterations (100) reached and the optimization hasn't converged yet.\n",
      "  warnings.warn(\n",
      "C:\\Users\\gozde\\anaconda3\\lib\\site-packages\\sklearn\\neural_network\\_multilayer_perceptron.py:692: ConvergenceWarning: Stochastic Optimizer: Maximum iterations (100) reached and the optimization hasn't converged yet.\n",
      "  warnings.warn(\n",
      "C:\\Users\\gozde\\anaconda3\\lib\\site-packages\\sklearn\\neural_network\\_multilayer_perceptron.py:692: ConvergenceWarning: Stochastic Optimizer: Maximum iterations (100) reached and the optimization hasn't converged yet.\n",
      "  warnings.warn(\n",
      "C:\\Users\\gozde\\anaconda3\\lib\\site-packages\\sklearn\\neural_network\\_multilayer_perceptron.py:692: ConvergenceWarning: Stochastic Optimizer: Maximum iterations (100) reached and the optimization hasn't converged yet.\n",
      "  warnings.warn(\n",
      "C:\\Users\\gozde\\anaconda3\\lib\\site-packages\\sklearn\\neural_network\\_multilayer_perceptron.py:692: ConvergenceWarning: Stochastic Optimizer: Maximum iterations (100) reached and the optimization hasn't converged yet.\n",
      "  warnings.warn(\n",
      "C:\\Users\\gozde\\anaconda3\\lib\\site-packages\\sklearn\\neural_network\\_multilayer_perceptron.py:692: ConvergenceWarning: Stochastic Optimizer: Maximum iterations (100) reached and the optimization hasn't converged yet.\n",
      "  warnings.warn(\n"
     ]
    },
    {
     "name": "stdout",
     "output_type": "stream",
     "text": [
      "0.30500000000000005\n"
     ]
    },
    {
     "name": "stderr",
     "output_type": "stream",
     "text": [
      "C:\\Users\\gozde\\anaconda3\\lib\\site-packages\\sklearn\\neural_network\\_multilayer_perceptron.py:692: ConvergenceWarning: Stochastic Optimizer: Maximum iterations (100) reached and the optimization hasn't converged yet.\n",
      "  warnings.warn(\n",
      "C:\\Users\\gozde\\anaconda3\\lib\\site-packages\\sklearn\\neural_network\\_multilayer_perceptron.py:692: ConvergenceWarning: Stochastic Optimizer: Maximum iterations (100) reached and the optimization hasn't converged yet.\n",
      "  warnings.warn(\n",
      "C:\\Users\\gozde\\anaconda3\\lib\\site-packages\\sklearn\\neural_network\\_multilayer_perceptron.py:692: ConvergenceWarning: Stochastic Optimizer: Maximum iterations (100) reached and the optimization hasn't converged yet.\n",
      "  warnings.warn(\n",
      "C:\\Users\\gozde\\anaconda3\\lib\\site-packages\\sklearn\\neural_network\\_multilayer_perceptron.py:692: ConvergenceWarning: Stochastic Optimizer: Maximum iterations (100) reached and the optimization hasn't converged yet.\n",
      "  warnings.warn(\n",
      "C:\\Users\\gozde\\anaconda3\\lib\\site-packages\\sklearn\\neural_network\\_multilayer_perceptron.py:692: ConvergenceWarning: Stochastic Optimizer: Maximum iterations (100) reached and the optimization hasn't converged yet.\n",
      "  warnings.warn(\n",
      "C:\\Users\\gozde\\anaconda3\\lib\\site-packages\\sklearn\\neural_network\\_multilayer_perceptron.py:692: ConvergenceWarning: Stochastic Optimizer: Maximum iterations (100) reached and the optimization hasn't converged yet.\n",
      "  warnings.warn(\n",
      "C:\\Users\\gozde\\anaconda3\\lib\\site-packages\\sklearn\\neural_network\\_multilayer_perceptron.py:692: ConvergenceWarning: Stochastic Optimizer: Maximum iterations (100) reached and the optimization hasn't converged yet.\n",
      "  warnings.warn(\n",
      "C:\\Users\\gozde\\anaconda3\\lib\\site-packages\\sklearn\\neural_network\\_multilayer_perceptron.py:692: ConvergenceWarning: Stochastic Optimizer: Maximum iterations (100) reached and the optimization hasn't converged yet.\n",
      "  warnings.warn(\n",
      "C:\\Users\\gozde\\anaconda3\\lib\\site-packages\\sklearn\\neural_network\\_multilayer_perceptron.py:692: ConvergenceWarning: Stochastic Optimizer: Maximum iterations (100) reached and the optimization hasn't converged yet.\n",
      "  warnings.warn(\n",
      "C:\\Users\\gozde\\anaconda3\\lib\\site-packages\\sklearn\\neural_network\\_multilayer_perceptron.py:692: ConvergenceWarning: Stochastic Optimizer: Maximum iterations (100) reached and the optimization hasn't converged yet.\n",
      "  warnings.warn(\n",
      "C:\\Users\\gozde\\anaconda3\\lib\\site-packages\\sklearn\\neural_network\\_multilayer_perceptron.py:692: ConvergenceWarning: Stochastic Optimizer: Maximum iterations (100) reached and the optimization hasn't converged yet.\n",
      "  warnings.warn(\n",
      "C:\\Users\\gozde\\anaconda3\\lib\\site-packages\\sklearn\\neural_network\\_multilayer_perceptron.py:692: ConvergenceWarning: Stochastic Optimizer: Maximum iterations (100) reached and the optimization hasn't converged yet.\n",
      "  warnings.warn(\n",
      "C:\\Users\\gozde\\anaconda3\\lib\\site-packages\\sklearn\\neural_network\\_multilayer_perceptron.py:692: ConvergenceWarning: Stochastic Optimizer: Maximum iterations (100) reached and the optimization hasn't converged yet.\n",
      "  warnings.warn(\n",
      "C:\\Users\\gozde\\anaconda3\\lib\\site-packages\\sklearn\\neural_network\\_multilayer_perceptron.py:692: ConvergenceWarning: Stochastic Optimizer: Maximum iterations (100) reached and the optimization hasn't converged yet.\n",
      "  warnings.warn(\n",
      "C:\\Users\\gozde\\anaconda3\\lib\\site-packages\\sklearn\\neural_network\\_multilayer_perceptron.py:692: ConvergenceWarning: Stochastic Optimizer: Maximum iterations (100) reached and the optimization hasn't converged yet.\n",
      "  warnings.warn(\n",
      "C:\\Users\\gozde\\anaconda3\\lib\\site-packages\\sklearn\\neural_network\\_multilayer_perceptron.py:692: ConvergenceWarning: Stochastic Optimizer: Maximum iterations (100) reached and the optimization hasn't converged yet.\n",
      "  warnings.warn(\n",
      "C:\\Users\\gozde\\anaconda3\\lib\\site-packages\\sklearn\\neural_network\\_multilayer_perceptron.py:692: ConvergenceWarning: Stochastic Optimizer: Maximum iterations (100) reached and the optimization hasn't converged yet.\n",
      "  warnings.warn(\n",
      "C:\\Users\\gozde\\anaconda3\\lib\\site-packages\\sklearn\\neural_network\\_multilayer_perceptron.py:692: ConvergenceWarning: Stochastic Optimizer: Maximum iterations (100) reached and the optimization hasn't converged yet.\n",
      "  warnings.warn(\n",
      "C:\\Users\\gozde\\anaconda3\\lib\\site-packages\\sklearn\\neural_network\\_multilayer_perceptron.py:692: ConvergenceWarning: Stochastic Optimizer: Maximum iterations (100) reached and the optimization hasn't converged yet.\n",
      "  warnings.warn(\n",
      "C:\\Users\\gozde\\anaconda3\\lib\\site-packages\\sklearn\\neural_network\\_multilayer_perceptron.py:692: ConvergenceWarning: Stochastic Optimizer: Maximum iterations (100) reached and the optimization hasn't converged yet.\n",
      "  warnings.warn(\n",
      "C:\\Users\\gozde\\anaconda3\\lib\\site-packages\\sklearn\\neural_network\\_multilayer_perceptron.py:692: ConvergenceWarning: Stochastic Optimizer: Maximum iterations (100) reached and the optimization hasn't converged yet.\n",
      "  warnings.warn(\n",
      "C:\\Users\\gozde\\anaconda3\\lib\\site-packages\\sklearn\\neural_network\\_multilayer_perceptron.py:692: ConvergenceWarning: Stochastic Optimizer: Maximum iterations (100) reached and the optimization hasn't converged yet.\n",
      "  warnings.warn(\n",
      "C:\\Users\\gozde\\anaconda3\\lib\\site-packages\\sklearn\\neural_network\\_multilayer_perceptron.py:692: ConvergenceWarning: Stochastic Optimizer: Maximum iterations (100) reached and the optimization hasn't converged yet.\n",
      "  warnings.warn(\n",
      "C:\\Users\\gozde\\anaconda3\\lib\\site-packages\\sklearn\\neural_network\\_multilayer_perceptron.py:692: ConvergenceWarning: Stochastic Optimizer: Maximum iterations (100) reached and the optimization hasn't converged yet.\n",
      "  warnings.warn(\n",
      "C:\\Users\\gozde\\anaconda3\\lib\\site-packages\\sklearn\\neural_network\\_multilayer_perceptron.py:692: ConvergenceWarning: Stochastic Optimizer: Maximum iterations (100) reached and the optimization hasn't converged yet.\n",
      "  warnings.warn(\n",
      "C:\\Users\\gozde\\anaconda3\\lib\\site-packages\\sklearn\\neural_network\\_multilayer_perceptron.py:692: ConvergenceWarning: Stochastic Optimizer: Maximum iterations (100) reached and the optimization hasn't converged yet.\n",
      "  warnings.warn(\n",
      "C:\\Users\\gozde\\anaconda3\\lib\\site-packages\\sklearn\\neural_network\\_multilayer_perceptron.py:692: ConvergenceWarning: Stochastic Optimizer: Maximum iterations (100) reached and the optimization hasn't converged yet.\n",
      "  warnings.warn(\n",
      "C:\\Users\\gozde\\anaconda3\\lib\\site-packages\\sklearn\\neural_network\\_multilayer_perceptron.py:692: ConvergenceWarning: Stochastic Optimizer: Maximum iterations (100) reached and the optimization hasn't converged yet.\n",
      "  warnings.warn(\n",
      "C:\\Users\\gozde\\anaconda3\\lib\\site-packages\\sklearn\\neural_network\\_multilayer_perceptron.py:692: ConvergenceWarning: Stochastic Optimizer: Maximum iterations (100) reached and the optimization hasn't converged yet.\n",
      "  warnings.warn(\n",
      "C:\\Users\\gozde\\anaconda3\\lib\\site-packages\\sklearn\\neural_network\\_multilayer_perceptron.py:692: ConvergenceWarning: Stochastic Optimizer: Maximum iterations (100) reached and the optimization hasn't converged yet.\n",
      "  warnings.warn(\n",
      "C:\\Users\\gozde\\anaconda3\\lib\\site-packages\\sklearn\\neural_network\\_multilayer_perceptron.py:692: ConvergenceWarning: Stochastic Optimizer: Maximum iterations (100) reached and the optimization hasn't converged yet.\n",
      "  warnings.warn(\n"
     ]
    },
    {
     "name": "stdout",
     "output_type": "stream",
     "text": [
      "0.6833333333333333\n"
     ]
    },
    {
     "name": "stderr",
     "output_type": "stream",
     "text": [
      "C:\\Users\\gozde\\anaconda3\\lib\\site-packages\\sklearn\\neural_network\\_multilayer_perceptron.py:692: ConvergenceWarning: Stochastic Optimizer: Maximum iterations (100) reached and the optimization hasn't converged yet.\n",
      "  warnings.warn(\n",
      "C:\\Users\\gozde\\anaconda3\\lib\\site-packages\\sklearn\\neural_network\\_multilayer_perceptron.py:692: ConvergenceWarning: Stochastic Optimizer: Maximum iterations (100) reached and the optimization hasn't converged yet.\n",
      "  warnings.warn(\n",
      "C:\\Users\\gozde\\anaconda3\\lib\\site-packages\\sklearn\\neural_network\\_multilayer_perceptron.py:692: ConvergenceWarning: Stochastic Optimizer: Maximum iterations (100) reached and the optimization hasn't converged yet.\n",
      "  warnings.warn(\n",
      "C:\\Users\\gozde\\anaconda3\\lib\\site-packages\\sklearn\\neural_network\\_multilayer_perceptron.py:692: ConvergenceWarning: Stochastic Optimizer: Maximum iterations (100) reached and the optimization hasn't converged yet.\n",
      "  warnings.warn(\n",
      "C:\\Users\\gozde\\anaconda3\\lib\\site-packages\\sklearn\\neural_network\\_multilayer_perceptron.py:692: ConvergenceWarning: Stochastic Optimizer: Maximum iterations (100) reached and the optimization hasn't converged yet.\n",
      "  warnings.warn(\n",
      "C:\\Users\\gozde\\anaconda3\\lib\\site-packages\\sklearn\\neural_network\\_multilayer_perceptron.py:692: ConvergenceWarning: Stochastic Optimizer: Maximum iterations (100) reached and the optimization hasn't converged yet.\n",
      "  warnings.warn(\n",
      "C:\\Users\\gozde\\anaconda3\\lib\\site-packages\\sklearn\\neural_network\\_multilayer_perceptron.py:692: ConvergenceWarning: Stochastic Optimizer: Maximum iterations (100) reached and the optimization hasn't converged yet.\n",
      "  warnings.warn(\n",
      "C:\\Users\\gozde\\anaconda3\\lib\\site-packages\\sklearn\\neural_network\\_multilayer_perceptron.py:692: ConvergenceWarning: Stochastic Optimizer: Maximum iterations (100) reached and the optimization hasn't converged yet.\n",
      "  warnings.warn(\n",
      "C:\\Users\\gozde\\anaconda3\\lib\\site-packages\\sklearn\\neural_network\\_multilayer_perceptron.py:692: ConvergenceWarning: Stochastic Optimizer: Maximum iterations (100) reached and the optimization hasn't converged yet.\n",
      "  warnings.warn(\n",
      "C:\\Users\\gozde\\anaconda3\\lib\\site-packages\\sklearn\\neural_network\\_multilayer_perceptron.py:692: ConvergenceWarning: Stochastic Optimizer: Maximum iterations (100) reached and the optimization hasn't converged yet.\n",
      "  warnings.warn(\n",
      "C:\\Users\\gozde\\anaconda3\\lib\\site-packages\\sklearn\\neural_network\\_multilayer_perceptron.py:692: ConvergenceWarning: Stochastic Optimizer: Maximum iterations (100) reached and the optimization hasn't converged yet.\n",
      "  warnings.warn(\n",
      "C:\\Users\\gozde\\anaconda3\\lib\\site-packages\\sklearn\\neural_network\\_multilayer_perceptron.py:692: ConvergenceWarning: Stochastic Optimizer: Maximum iterations (100) reached and the optimization hasn't converged yet.\n",
      "  warnings.warn(\n",
      "C:\\Users\\gozde\\anaconda3\\lib\\site-packages\\sklearn\\neural_network\\_multilayer_perceptron.py:692: ConvergenceWarning: Stochastic Optimizer: Maximum iterations (100) reached and the optimization hasn't converged yet.\n",
      "  warnings.warn(\n",
      "C:\\Users\\gozde\\anaconda3\\lib\\site-packages\\sklearn\\neural_network\\_multilayer_perceptron.py:692: ConvergenceWarning: Stochastic Optimizer: Maximum iterations (100) reached and the optimization hasn't converged yet.\n",
      "  warnings.warn(\n",
      "C:\\Users\\gozde\\anaconda3\\lib\\site-packages\\sklearn\\neural_network\\_multilayer_perceptron.py:692: ConvergenceWarning: Stochastic Optimizer: Maximum iterations (100) reached and the optimization hasn't converged yet.\n",
      "  warnings.warn(\n",
      "C:\\Users\\gozde\\anaconda3\\lib\\site-packages\\sklearn\\neural_network\\_multilayer_perceptron.py:692: ConvergenceWarning: Stochastic Optimizer: Maximum iterations (100) reached and the optimization hasn't converged yet.\n",
      "  warnings.warn(\n",
      "C:\\Users\\gozde\\anaconda3\\lib\\site-packages\\sklearn\\neural_network\\_multilayer_perceptron.py:692: ConvergenceWarning: Stochastic Optimizer: Maximum iterations (100) reached and the optimization hasn't converged yet.\n",
      "  warnings.warn(\n",
      "C:\\Users\\gozde\\anaconda3\\lib\\site-packages\\sklearn\\neural_network\\_multilayer_perceptron.py:692: ConvergenceWarning: Stochastic Optimizer: Maximum iterations (100) reached and the optimization hasn't converged yet.\n",
      "  warnings.warn(\n",
      "C:\\Users\\gozde\\anaconda3\\lib\\site-packages\\sklearn\\neural_network\\_multilayer_perceptron.py:692: ConvergenceWarning: Stochastic Optimizer: Maximum iterations (100) reached and the optimization hasn't converged yet.\n",
      "  warnings.warn(\n",
      "C:\\Users\\gozde\\anaconda3\\lib\\site-packages\\sklearn\\neural_network\\_multilayer_perceptron.py:692: ConvergenceWarning: Stochastic Optimizer: Maximum iterations (100) reached and the optimization hasn't converged yet.\n",
      "  warnings.warn(\n",
      "C:\\Users\\gozde\\anaconda3\\lib\\site-packages\\sklearn\\neural_network\\_multilayer_perceptron.py:692: ConvergenceWarning: Stochastic Optimizer: Maximum iterations (100) reached and the optimization hasn't converged yet.\n",
      "  warnings.warn(\n",
      "C:\\Users\\gozde\\anaconda3\\lib\\site-packages\\sklearn\\neural_network\\_multilayer_perceptron.py:692: ConvergenceWarning: Stochastic Optimizer: Maximum iterations (100) reached and the optimization hasn't converged yet.\n",
      "  warnings.warn(\n",
      "C:\\Users\\gozde\\anaconda3\\lib\\site-packages\\sklearn\\neural_network\\_multilayer_perceptron.py:692: ConvergenceWarning: Stochastic Optimizer: Maximum iterations (100) reached and the optimization hasn't converged yet.\n",
      "  warnings.warn(\n",
      "C:\\Users\\gozde\\anaconda3\\lib\\site-packages\\sklearn\\neural_network\\_multilayer_perceptron.py:692: ConvergenceWarning: Stochastic Optimizer: Maximum iterations (100) reached and the optimization hasn't converged yet.\n",
      "  warnings.warn(\n",
      "C:\\Users\\gozde\\anaconda3\\lib\\site-packages\\sklearn\\neural_network\\_multilayer_perceptron.py:692: ConvergenceWarning: Stochastic Optimizer: Maximum iterations (100) reached and the optimization hasn't converged yet.\n",
      "  warnings.warn(\n",
      "C:\\Users\\gozde\\anaconda3\\lib\\site-packages\\sklearn\\neural_network\\_multilayer_perceptron.py:692: ConvergenceWarning: Stochastic Optimizer: Maximum iterations (100) reached and the optimization hasn't converged yet.\n",
      "  warnings.warn(\n",
      "C:\\Users\\gozde\\anaconda3\\lib\\site-packages\\sklearn\\neural_network\\_multilayer_perceptron.py:692: ConvergenceWarning: Stochastic Optimizer: Maximum iterations (100) reached and the optimization hasn't converged yet.\n",
      "  warnings.warn(\n",
      "C:\\Users\\gozde\\anaconda3\\lib\\site-packages\\sklearn\\neural_network\\_multilayer_perceptron.py:692: ConvergenceWarning: Stochastic Optimizer: Maximum iterations (100) reached and the optimization hasn't converged yet.\n",
      "  warnings.warn(\n",
      "C:\\Users\\gozde\\anaconda3\\lib\\site-packages\\sklearn\\neural_network\\_multilayer_perceptron.py:692: ConvergenceWarning: Stochastic Optimizer: Maximum iterations (100) reached and the optimization hasn't converged yet.\n",
      "  warnings.warn(\n",
      "C:\\Users\\gozde\\anaconda3\\lib\\site-packages\\sklearn\\neural_network\\_multilayer_perceptron.py:692: ConvergenceWarning: Stochastic Optimizer: Maximum iterations (100) reached and the optimization hasn't converged yet.\n",
      "  warnings.warn(\n",
      "C:\\Users\\gozde\\anaconda3\\lib\\site-packages\\sklearn\\neural_network\\_multilayer_perceptron.py:692: ConvergenceWarning: Stochastic Optimizer: Maximum iterations (100) reached and the optimization hasn't converged yet.\n",
      "  warnings.warn(\n"
     ]
    },
    {
     "name": "stdout",
     "output_type": "stream",
     "text": [
      "0.7483333333333333\n"
     ]
    },
    {
     "name": "stderr",
     "output_type": "stream",
     "text": [
      "C:\\Users\\gozde\\anaconda3\\lib\\site-packages\\sklearn\\neural_network\\_multilayer_perceptron.py:692: ConvergenceWarning: Stochastic Optimizer: Maximum iterations (100) reached and the optimization hasn't converged yet.\n",
      "  warnings.warn(\n"
     ]
    },
    {
     "name": "stdout",
     "output_type": "stream",
     "text": [
      "0.7533333333333333\n"
     ]
    }
   ],
   "source": [
    "lr_list = [0.0002, 0.002, 0.02, 0.2]\n",
    "for lr in lr_list:\n",
    "    mlp = MLPClassifier(max_iter=100, alpha=1e-4, solver='sgd',\n",
    "                    tol=1e-4, random_state=ID,\n",
    "                    learning_rate_init=lr)\n",
    "    clf = GridSearchCV(mlp, parameters, cv=5)\n",
    "    clf.fit(X_train, y_train)\n",
    "    print(clf.best_score_ )"
   ]
  },
  {
   "cell_type": "code",
   "execution_count": 19,
   "metadata": {},
   "outputs": [
    {
     "name": "stderr",
     "output_type": "stream",
     "text": [
      "C:\\Users\\gozde\\anaconda3\\lib\\site-packages\\sklearn\\neural_network\\_multilayer_perceptron.py:692: ConvergenceWarning: Stochastic Optimizer: Maximum iterations (100) reached and the optimization hasn't converged yet.\n",
      "  warnings.warn(\n",
      "C:\\Users\\gozde\\anaconda3\\lib\\site-packages\\sklearn\\neural_network\\_multilayer_perceptron.py:692: ConvergenceWarning: Stochastic Optimizer: Maximum iterations (100) reached and the optimization hasn't converged yet.\n",
      "  warnings.warn(\n",
      "C:\\Users\\gozde\\anaconda3\\lib\\site-packages\\sklearn\\neural_network\\_multilayer_perceptron.py:692: ConvergenceWarning: Stochastic Optimizer: Maximum iterations (100) reached and the optimization hasn't converged yet.\n",
      "  warnings.warn(\n"
     ]
    },
    {
     "data": {
      "image/png": "[encoded data removed]",
      "text/plain": [
       "<Figure size 800x500 with 1 Axes>"
      ]
     },
     "metadata": {},
     "output_type": "display_data"
    },
    {
     "data": {
      "image/png": "[encoded data removed]",
      "text/plain": [
       "<Figure size 800x500 with 1 Axes>"
      ]
     },
     "metadata": {},
     "output_type": "display_data"
    },
    {
     "data": {
      "image/png": "[encoded data removed]",
      "text/plain": [
       "<Figure size 800x500 with 1 Axes>"
      ]
     },
     "metadata": {},
     "output_type": "display_data"
    },
    {
     "data": {
      "image/png": "[encoded data removed]",
      "text/plain": [
       "<Figure size 800x500 with 1 Axes>"
      ]
     },
     "metadata": {},
     "output_type": "display_data"
    }
   ],
   "source": [
    "lr_list = [0.0002, 0.002, 0.02, 0.2]\n",
    "for lr in lr_list:\n",
    "    mlp = MLPClassifier(max_iter=100, alpha=1e-4, solver='sgd',\n",
    "                    tol=1e-4, random_state=ID,\n",
    "                    learning_rate_init=lr)\n",
    "    mlp.fit(X_train,y_train)\n",
    "    fig, ax = plt.subplots(figsize=(8,5))\n",
    "    plt.plot(mlp.loss_curve_)"
   ]
  },
  {
   "cell_type": "markdown",
   "metadata": {},
   "source": [
    "### QUESTION 3\n",
    "\n",
    "Comment about the learning curves (i.e. the variation of the loss over the steps). How does the curve changes for different learning rates in terms of stability and speed of convergence ?"
   ]
  },
  {
   "cell_type": "markdown",
   "metadata": {},
   "source": [
    "## [ANSWER TO QUESTION 3]\n",
    "\n",
    "As the learning rate increases, the performance of the model gets better. Also, as the learning rate increases, the speed of convergence also increased. "
   ]
  },
  {
   "cell_type": "markdown",
   "metadata": {},
   "source": [
    "### TO DO 5\n",
    "\n",
    "Now get training and test error for a NN with best parameters (architecture, batch size and learning rate) from above. Plot the learning curve also for this case (you can run the training for 500 iterations)."
   ]
  },
  {
   "cell_type": "code",
   "execution_count": 30,
   "metadata": {
    "scrolled": true
   },
   "outputs": [
    {
     "name": "stdout",
     "output_type": "stream",
     "text": [
      "\n",
      "RESULTS FOR BEST NN\n",
      "\n",
      "Best NN training error: 0.000000\n",
      "Best NN test error: 0.150429\n"
     ]
    },
    {
     "data": {
      "text/plain": [
       "[<matplotlib.lines.Line2D at 0x21e3064dd30>]"
      ]
     },
     "execution_count": 30,
     "metadata": {},
     "output_type": "execute_result"
    },
    {
     "data": {
      "image/png": "[encoded data removed]",
      "text/plain": [
       "<Figure size 800x500 with 1 Axes>"
      ]
     },
     "metadata": {},
     "output_type": "display_data"
    }
   ],
   "source": [
    "#get training and test error for the best NN model from CV\n",
    "#best learning rate = 0.2\n",
    "\n",
    "parameters = {'hidden_layer_sizes': [(40,)], 'batch_size': [480]}\n",
    "mlp = MLPClassifier(max_iter=500, alpha=1e-4, solver='sgd',\n",
    "                    tol=1e-4, random_state=ID,\n",
    "                    learning_rate_init=0.2)\n",
    "mlp.fit(X_train, y_train)\n",
    "\n",
    "clf = GridSearchCV(mlp, parameters, cv=5)\n",
    "clf.fit(X_train, y_train)\n",
    "training_error = 1 - clf.score(X_train, y_train)\n",
    "test_error = 1 - clf.score(X_test, y_test)\n",
    "\n",
    "print ('\\nRESULTS FOR BEST NN\\n')\n",
    "\n",
    "print (\"Best NN training error: %f\" % training_error)\n",
    "print (\"Best NN test error: %f\" % test_error)\n",
    "\n",
    "fig, ax = plt.subplots(figsize=(8,5))\n",
    "plt.plot(mlp.loss_curve_)"
   ]
  },
  {
   "cell_type": "markdown",
   "metadata": {},
   "source": [
    "## More data \n",
    "Now let's do the same but using 4000 (or less if it takes too long on your machine) data points for training. Use the same NN architecture as before, but you can try more if you like and have a powerful computer!!"
   ]
  },
  {
   "cell_type": "code",
   "execution_count": 31,
   "metadata": {},
   "outputs": [
    {
     "name": "stdout",
     "output_type": "stream",
     "text": [
      "Labels in training dataset:  [0 1 2 3 4 5 6 7 8 9]\n",
      "Frequencies in training dataset:  [404 386 415 424 410 399 420 395 364 383]\n"
     ]
    }
   ],
   "source": [
    "X = X[permutation]\n",
    "y = y[permutation]\n",
    "\n",
    "m_training = 4000\n",
    "\n",
    "X_train, X_test = X[:m_training], X[m_training:]\n",
    "y_train, y_test = y[:m_training], y[m_training:]\n",
    "\n",
    "labels, freqs = np.unique(y_train, return_counts=True)\n",
    "print(\"Labels in training dataset: \", labels)\n",
    "print(\"Frequencies in training dataset: \", freqs)"
   ]
  },
  {
   "cell_type": "markdown",
   "metadata": {},
   "source": [
    "### TO DO 6\n",
    "\n",
    "Now train the NNs with the added data points using the optimum parameters found above. Eventually, feel free to try different architectures if you like. We suggest that you use 'verbose=True' so have an idea of how long it takes to run 1 iteration (eventually reduce also the number of iterations to 50)."
   ]
  },
  {
   "cell_type": "code",
   "execution_count": 32,
   "metadata": {},
   "outputs": [
    {
     "name": "stdout",
     "output_type": "stream",
     "text": [
      "Iteration 1, loss = 1.19307171\n",
      "Iteration 2, loss = 0.48171004\n",
      "Iteration 3, loss = 0.30536705\n",
      "Iteration 4, loss = 0.20283476\n",
      "Iteration 5, loss = 0.12536812\n",
      "Iteration 6, loss = 0.07820955\n",
      "Iteration 7, loss = 0.04868534\n",
      "Iteration 8, loss = 0.03103030\n",
      "Iteration 9, loss = 0.02163470\n",
      "Iteration 10, loss = 0.01639025\n",
      "Iteration 11, loss = 0.01285752\n",
      "Iteration 12, loss = 0.01030594\n",
      "Iteration 13, loss = 0.00866166\n",
      "Iteration 14, loss = 0.00770073\n",
      "Iteration 15, loss = 0.00680516\n",
      "Iteration 16, loss = 0.00610975\n",
      "Iteration 17, loss = 0.00551267\n",
      "Iteration 18, loss = 0.00505661\n",
      "Iteration 19, loss = 0.00462603\n",
      "Iteration 20, loss = 0.00429849\n",
      "Iteration 21, loss = 0.00398312\n",
      "Iteration 22, loss = 0.00373485\n",
      "Iteration 23, loss = 0.00352592\n",
      "Iteration 24, loss = 0.00331732\n",
      "Iteration 25, loss = 0.00314964\n",
      "Iteration 26, loss = 0.00296747\n",
      "Iteration 27, loss = 0.00283614\n",
      "Iteration 28, loss = 0.00269815\n",
      "Iteration 29, loss = 0.00257514\n",
      "Iteration 30, loss = 0.00247148\n",
      "Iteration 31, loss = 0.00236522\n",
      "Iteration 32, loss = 0.00227089\n",
      "Iteration 33, loss = 0.00218667\n",
      "Iteration 34, loss = 0.00210768\n",
      "Iteration 35, loss = 0.00203117\n",
      "Iteration 36, loss = 0.00196302\n",
      "Iteration 37, loss = 0.00189907\n",
      "Iteration 38, loss = 0.00183829\n",
      "Iteration 39, loss = 0.00178820\n",
      "Iteration 40, loss = 0.00173325\n",
      "Iteration 41, loss = 0.00168319\n",
      "Iteration 42, loss = 0.00163930\n",
      "Training loss did not improve more than tol=0.000100 for 10 consecutive epochs. Stopping.\n",
      "Iteration 1, loss = 1.87778068\n",
      "Iteration 2, loss = 0.96799828\n",
      "Iteration 3, loss = 0.76346827\n",
      "Iteration 4, loss = 0.50944861\n",
      "Iteration 5, loss = 0.41089628\n",
      "Iteration 6, loss = 0.34449975\n",
      "Iteration 7, loss = 0.28895873\n",
      "Iteration 8, loss = 0.24592310\n",
      "Iteration 9, loss = 0.21108857\n",
      "Iteration 10, loss = 0.17736430\n",
      "Iteration 11, loss = 0.15294325\n",
      "Iteration 12, loss = 0.13221327\n",
      "Iteration 13, loss = 0.10965117\n",
      "Iteration 14, loss = 0.09460566\n",
      "Iteration 15, loss = 0.08251543\n",
      "Iteration 16, loss = 0.07044799\n",
      "Iteration 17, loss = 0.06064397\n",
      "Iteration 18, loss = 0.05228681\n",
      "Iteration 19, loss = 0.04639783\n",
      "Iteration 20, loss = 0.04151057\n",
      "Iteration 21, loss = 0.03679570\n",
      "Iteration 22, loss = 0.03274292\n",
      "Iteration 23, loss = 0.02953548\n",
      "Iteration 24, loss = 0.02649346\n",
      "Iteration 25, loss = 0.02424697\n",
      "Iteration 26, loss = 0.02196716\n",
      "Iteration 27, loss = 0.02022019\n",
      "Iteration 28, loss = 0.01866394\n",
      "Iteration 29, loss = 0.01715217\n",
      "Iteration 30, loss = 0.01616525\n",
      "Iteration 31, loss = 0.01495272\n",
      "Iteration 32, loss = 0.01414200\n",
      "Iteration 33, loss = 0.01314075\n",
      "Iteration 34, loss = 0.01244787\n",
      "Iteration 35, loss = 0.01174281\n",
      "Iteration 36, loss = 0.01110890\n",
      "Iteration 37, loss = 0.01054913\n",
      "Iteration 38, loss = 0.01004831\n",
      "Iteration 39, loss = 0.00961609\n",
      "Iteration 40, loss = 0.00917410\n",
      "Iteration 41, loss = 0.00876127\n",
      "Iteration 42, loss = 0.00838669\n",
      "Iteration 43, loss = 0.00809964\n",
      "Iteration 44, loss = 0.00771426\n",
      "Iteration 45, loss = 0.00741708\n",
      "Iteration 46, loss = 0.00715060\n",
      "Iteration 47, loss = 0.00686992\n",
      "Iteration 48, loss = 0.00666918\n",
      "Iteration 49, loss = 0.00643764\n",
      "Iteration 50, loss = 0.00621750\n",
      "Iteration 51, loss = 0.00601448\n",
      "Iteration 52, loss = 0.00584588\n",
      "Iteration 53, loss = 0.00563568\n",
      "Iteration 54, loss = 0.00548331\n",
      "Iteration 55, loss = 0.00531732\n",
      "Iteration 56, loss = 0.00517402\n",
      "Iteration 57, loss = 0.00502281\n",
      "Iteration 58, loss = 0.00488874\n",
      "Iteration 59, loss = 0.00476029\n",
      "Iteration 60, loss = 0.00464847\n",
      "Iteration 61, loss = 0.00452098\n",
      "Iteration 62, loss = 0.00441253\n",
      "Iteration 63, loss = 0.00431599\n",
      "Iteration 64, loss = 0.00420382\n",
      "Iteration 65, loss = 0.00410323\n",
      "Iteration 66, loss = 0.00401540\n",
      "Iteration 67, loss = 0.00391826\n",
      "Iteration 68, loss = 0.00384817\n",
      "Iteration 69, loss = 0.00375215\n",
      "Iteration 70, loss = 0.00367528\n",
      "Iteration 71, loss = 0.00360644\n",
      "Iteration 72, loss = 0.00353518\n",
      "Iteration 73, loss = 0.00345354\n",
      "Iteration 74, loss = 0.00338316\n",
      "Iteration 75, loss = 0.00332780\n",
      "Iteration 76, loss = 0.00326408\n",
      "Training loss did not improve more than tol=0.000100 for 10 consecutive epochs. Stopping.\n",
      "Iteration 1, loss = 1.85472094\n",
      "Iteration 2, loss = 0.96313162\n",
      "Iteration 3, loss = 0.68526881\n",
      "Iteration 4, loss = 0.50388087\n",
      "Iteration 5, loss = 0.41438774\n",
      "Iteration 6, loss = 0.34394654\n",
      "Iteration 7, loss = 0.29103915\n",
      "Iteration 8, loss = 0.24596673\n",
      "Iteration 9, loss = 0.21429477\n",
      "Iteration 10, loss = 0.17724667\n",
      "Iteration 11, loss = 0.15267580\n",
      "Iteration 12, loss = 0.13189530\n",
      "Iteration 13, loss = 0.10750472\n",
      "Iteration 14, loss = 0.09253487\n",
      "Iteration 15, loss = 0.08128855\n",
      "Iteration 16, loss = 0.06739133\n",
      "Iteration 17, loss = 0.05823302\n",
      "Iteration 18, loss = 0.04955007\n",
      "Iteration 19, loss = 0.04381494\n",
      "Iteration 20, loss = 0.03773623\n",
      "Iteration 21, loss = 0.03324830\n",
      "Iteration 22, loss = 0.02998859\n",
      "Iteration 23, loss = 0.02676489\n",
      "Iteration 24, loss = 0.02405824\n",
      "Iteration 25, loss = 0.02192881\n",
      "Iteration 26, loss = 0.02001402\n",
      "Iteration 27, loss = 0.01857376\n",
      "Iteration 28, loss = 0.01707907\n",
      "Iteration 29, loss = 0.01576063\n",
      "Iteration 30, loss = 0.01476897\n",
      "Iteration 31, loss = 0.01376724\n",
      "Iteration 32, loss = 0.01309176\n",
      "Iteration 33, loss = 0.01219845\n",
      "Iteration 34, loss = 0.01147315\n",
      "Iteration 35, loss = 0.01084284\n",
      "Iteration 36, loss = 0.01035663\n",
      "Iteration 37, loss = 0.00978068\n",
      "Iteration 38, loss = 0.00931515\n",
      "Iteration 39, loss = 0.00904048\n",
      "Iteration 40, loss = 0.00850294\n",
      "Iteration 41, loss = 0.00820939\n",
      "Iteration 42, loss = 0.00782929\n",
      "Iteration 43, loss = 0.00754077\n",
      "Iteration 44, loss = 0.00723827\n",
      "Iteration 45, loss = 0.00695702\n",
      "Iteration 46, loss = 0.00670900\n",
      "Iteration 47, loss = 0.00646163\n",
      "Iteration 48, loss = 0.00628949\n",
      "Iteration 49, loss = 0.00605410\n",
      "Iteration 50, loss = 0.00586323\n",
      "Iteration 51, loss = 0.00567006\n",
      "Iteration 52, loss = 0.00550721\n",
      "Iteration 53, loss = 0.00535242\n",
      "Iteration 54, loss = 0.00517478\n",
      "Iteration 55, loss = 0.00504877\n",
      "Iteration 56, loss = 0.00488698\n",
      "Iteration 57, loss = 0.00476083\n",
      "Iteration 58, loss = 0.00464048\n",
      "Iteration 59, loss = 0.00452791\n",
      "Iteration 60, loss = 0.00440479\n",
      "Iteration 61, loss = 0.00429518\n",
      "Iteration 62, loss = 0.00420012\n",
      "Iteration 63, loss = 0.00409974\n",
      "Iteration 64, loss = 0.00400940\n",
      "Iteration 65, loss = 0.00390488\n",
      "Iteration 66, loss = 0.00381238\n",
      "Iteration 67, loss = 0.00372977\n",
      "Iteration 68, loss = 0.00366356\n",
      "Iteration 69, loss = 0.00357141\n",
      "Iteration 70, loss = 0.00350314\n",
      "Iteration 71, loss = 0.00343730\n",
      "Iteration 72, loss = 0.00336341\n",
      "Iteration 73, loss = 0.00329423\n",
      "Iteration 74, loss = 0.00323811\n",
      "Iteration 75, loss = 0.00317005\n",
      "Iteration 76, loss = 0.00311107\n",
      "Training loss did not improve more than tol=0.000100 for 10 consecutive epochs. Stopping.\n",
      "Iteration 1, loss = 1.84570693\n",
      "Iteration 2, loss = 0.98782924\n",
      "Iteration 3, loss = 0.67024695\n",
      "Iteration 4, loss = 0.51521563\n",
      "Iteration 5, loss = 0.40914287\n",
      "Iteration 6, loss = 0.34046323\n",
      "Iteration 7, loss = 0.28955720\n",
      "Iteration 8, loss = 0.23987388\n",
      "Iteration 9, loss = 0.20101340\n",
      "Iteration 10, loss = 0.17002430\n",
      "Iteration 11, loss = 0.14183558\n",
      "Iteration 12, loss = 0.12099461\n",
      "Iteration 13, loss = 0.10156752\n",
      "Iteration 14, loss = 0.08942599\n",
      "Iteration 15, loss = 0.07562525\n",
      "Iteration 16, loss = 0.06447303\n",
      "Iteration 17, loss = 0.05586056\n",
      "Iteration 18, loss = 0.04796512\n",
      "Iteration 19, loss = 0.04278430\n",
      "Iteration 20, loss = 0.03749556\n",
      "Iteration 21, loss = 0.03334922\n",
      "Iteration 22, loss = 0.02999007\n",
      "Iteration 23, loss = 0.02719201\n",
      "Iteration 24, loss = 0.02452967\n",
      "Iteration 25, loss = 0.02234064\n",
      "Iteration 26, loss = 0.02051673\n",
      "Iteration 27, loss = 0.01881304\n",
      "Iteration 28, loss = 0.01741450\n",
      "Iteration 29, loss = 0.01602097\n",
      "Iteration 30, loss = 0.01506057\n",
      "Iteration 31, loss = 0.01400731\n",
      "Iteration 32, loss = 0.01321189\n",
      "Iteration 33, loss = 0.01241178\n",
      "Iteration 34, loss = 0.01170829\n",
      "Iteration 35, loss = 0.01109298\n",
      "Iteration 36, loss = 0.01048320\n",
      "Iteration 37, loss = 0.01002136\n",
      "Iteration 38, loss = 0.00952875\n",
      "Iteration 39, loss = 0.00918172\n",
      "Iteration 40, loss = 0.00866519\n",
      "Iteration 41, loss = 0.00831692\n",
      "Iteration 42, loss = 0.00797354\n",
      "Iteration 43, loss = 0.00765229\n",
      "Iteration 44, loss = 0.00737388\n",
      "Iteration 45, loss = 0.00706113\n",
      "Iteration 46, loss = 0.00681291\n",
      "Iteration 47, loss = 0.00654812\n",
      "Iteration 48, loss = 0.00635788\n",
      "Iteration 49, loss = 0.00612117\n",
      "Iteration 50, loss = 0.00595861\n",
      "Iteration 51, loss = 0.00573904\n",
      "Iteration 52, loss = 0.00558138\n",
      "Iteration 53, loss = 0.00540861\n",
      "Iteration 54, loss = 0.00522733\n",
      "Iteration 55, loss = 0.00509602\n",
      "Iteration 56, loss = 0.00493896\n",
      "Iteration 57, loss = 0.00481069\n"
     ]
    },
    {
     "name": "stdout",
     "output_type": "stream",
     "text": [
      "Iteration 58, loss = 0.00468835\n",
      "Iteration 59, loss = 0.00457526\n",
      "Iteration 60, loss = 0.00445130\n",
      "Iteration 61, loss = 0.00433000\n",
      "Iteration 62, loss = 0.00423526\n",
      "Iteration 63, loss = 0.00412818\n",
      "Iteration 64, loss = 0.00403161\n",
      "Iteration 65, loss = 0.00394204\n",
      "Iteration 66, loss = 0.00384878\n",
      "Iteration 67, loss = 0.00377144\n",
      "Iteration 68, loss = 0.00370538\n",
      "Iteration 69, loss = 0.00360973\n",
      "Iteration 70, loss = 0.00354128\n",
      "Iteration 71, loss = 0.00347661\n",
      "Iteration 72, loss = 0.00340250\n",
      "Iteration 73, loss = 0.00333108\n",
      "Iteration 74, loss = 0.00326076\n",
      "Training loss did not improve more than tol=0.000100 for 10 consecutive epochs. Stopping.\n",
      "Iteration 1, loss = 1.83894831\n",
      "Iteration 2, loss = 0.99953395\n",
      "Iteration 3, loss = 0.66244800\n",
      "Iteration 4, loss = 0.51448347\n",
      "Iteration 5, loss = 0.41200032\n",
      "Iteration 6, loss = 0.34046526\n",
      "Iteration 7, loss = 0.29098845\n",
      "Iteration 8, loss = 0.23730023\n",
      "Iteration 9, loss = 0.20711747\n",
      "Iteration 10, loss = 0.17388099\n",
      "Iteration 11, loss = 0.14734441\n",
      "Iteration 12, loss = 0.12426614\n",
      "Iteration 13, loss = 0.10628329\n",
      "Iteration 14, loss = 0.09236525\n",
      "Iteration 15, loss = 0.08012853\n",
      "Iteration 16, loss = 0.06742849\n",
      "Iteration 17, loss = 0.05928414\n",
      "Iteration 18, loss = 0.05170887\n",
      "Iteration 19, loss = 0.04495515\n",
      "Iteration 20, loss = 0.04001473\n",
      "Iteration 21, loss = 0.03488060\n",
      "Iteration 22, loss = 0.03117973\n",
      "Iteration 23, loss = 0.02786631\n",
      "Iteration 24, loss = 0.02541589\n",
      "Iteration 25, loss = 0.02321176\n",
      "Iteration 26, loss = 0.02120503\n",
      "Iteration 27, loss = 0.01947467\n",
      "Iteration 28, loss = 0.01788551\n",
      "Iteration 29, loss = 0.01638326\n",
      "Iteration 30, loss = 0.01524914\n",
      "Iteration 31, loss = 0.01418614\n",
      "Iteration 32, loss = 0.01336876\n",
      "Iteration 33, loss = 0.01261022\n",
      "Iteration 34, loss = 0.01184474\n",
      "Iteration 35, loss = 0.01115762\n",
      "Iteration 36, loss = 0.01056052\n",
      "Iteration 37, loss = 0.01007151\n",
      "Iteration 38, loss = 0.00957447\n",
      "Iteration 39, loss = 0.00919469\n",
      "Iteration 40, loss = 0.00870587\n",
      "Iteration 41, loss = 0.00840760\n",
      "Iteration 42, loss = 0.00803806\n",
      "Iteration 43, loss = 0.00770190\n",
      "Iteration 44, loss = 0.00740239\n",
      "Iteration 45, loss = 0.00710857\n",
      "Iteration 46, loss = 0.00686054\n",
      "Iteration 47, loss = 0.00659364\n",
      "Iteration 48, loss = 0.00637943\n",
      "Iteration 49, loss = 0.00616804\n",
      "Iteration 50, loss = 0.00596538\n",
      "Iteration 51, loss = 0.00578905\n",
      "Iteration 52, loss = 0.00560455\n",
      "Iteration 53, loss = 0.00544293\n",
      "Iteration 54, loss = 0.00528090\n",
      "Iteration 55, loss = 0.00513017\n",
      "Iteration 56, loss = 0.00497732\n",
      "Iteration 57, loss = 0.00485189\n",
      "Iteration 58, loss = 0.00474238\n",
      "Iteration 59, loss = 0.00461509\n",
      "Iteration 60, loss = 0.00448059\n",
      "Iteration 61, loss = 0.00436823\n",
      "Iteration 62, loss = 0.00426957\n",
      "Iteration 63, loss = 0.00415801\n",
      "Iteration 64, loss = 0.00406120\n",
      "Iteration 65, loss = 0.00398337\n",
      "Iteration 66, loss = 0.00388600\n",
      "Iteration 67, loss = 0.00380112\n",
      "Iteration 68, loss = 0.00372161\n",
      "Iteration 69, loss = 0.00364853\n",
      "Iteration 70, loss = 0.00356212\n",
      "Iteration 71, loss = 0.00348890\n",
      "Iteration 72, loss = 0.00342023\n",
      "Iteration 73, loss = 0.00335669\n",
      "Iteration 74, loss = 0.00328703\n",
      "Training loss did not improve more than tol=0.000100 for 10 consecutive epochs. Stopping.\n",
      "Iteration 1, loss = 1.84300903\n",
      "Iteration 2, loss = 0.96488756\n",
      "Iteration 3, loss = 0.64032964\n",
      "Iteration 4, loss = 0.49744677\n",
      "Iteration 5, loss = 0.40189127\n",
      "Iteration 6, loss = 0.32971709\n",
      "Iteration 7, loss = 0.27318072\n",
      "Iteration 8, loss = 0.23021794\n",
      "Iteration 9, loss = 0.19019329\n",
      "Iteration 10, loss = 0.15720509\n",
      "Iteration 11, loss = 0.13263811\n",
      "Iteration 12, loss = 0.11166019\n",
      "Iteration 13, loss = 0.09226033\n",
      "Iteration 14, loss = 0.08007376\n",
      "Iteration 15, loss = 0.06729225\n",
      "Iteration 16, loss = 0.05711157\n",
      "Iteration 17, loss = 0.04889733\n",
      "Iteration 18, loss = 0.04226046\n",
      "Iteration 19, loss = 0.03693511\n",
      "Iteration 20, loss = 0.03248714\n",
      "Iteration 21, loss = 0.02900519\n",
      "Iteration 22, loss = 0.02627403\n",
      "Iteration 23, loss = 0.02338434\n",
      "Iteration 24, loss = 0.02149445\n",
      "Iteration 25, loss = 0.01967516\n",
      "Iteration 26, loss = 0.01811061\n",
      "Iteration 27, loss = 0.01664004\n",
      "Iteration 28, loss = 0.01546290\n",
      "Iteration 29, loss = 0.01432105\n",
      "Iteration 30, loss = 0.01332217\n",
      "Iteration 31, loss = 0.01247690\n",
      "Iteration 32, loss = 0.01172487\n",
      "Iteration 33, loss = 0.01105703\n",
      "Iteration 34, loss = 0.01044099\n",
      "Iteration 35, loss = 0.00983996\n",
      "Iteration 36, loss = 0.00935612\n",
      "Iteration 37, loss = 0.00896825\n",
      "Iteration 38, loss = 0.00850426\n",
      "Iteration 39, loss = 0.00810067\n",
      "Iteration 40, loss = 0.00776128\n",
      "Iteration 41, loss = 0.00747447\n",
      "Iteration 42, loss = 0.00719121\n",
      "Iteration 43, loss = 0.00688081\n",
      "Iteration 44, loss = 0.00662504\n",
      "Iteration 45, loss = 0.00637452\n",
      "Iteration 46, loss = 0.00615456\n",
      "Iteration 47, loss = 0.00594574\n",
      "Iteration 48, loss = 0.00573569\n",
      "Iteration 49, loss = 0.00554401\n",
      "Iteration 50, loss = 0.00538483\n",
      "Iteration 51, loss = 0.00522382\n",
      "Iteration 52, loss = 0.00505529\n",
      "Iteration 53, loss = 0.00491968\n",
      "Iteration 54, loss = 0.00478182\n",
      "Iteration 55, loss = 0.00463476\n",
      "Iteration 56, loss = 0.00451665\n",
      "Iteration 57, loss = 0.00438342\n",
      "Iteration 58, loss = 0.00427698\n",
      "Iteration 59, loss = 0.00417301\n",
      "Iteration 60, loss = 0.00406264\n",
      "Iteration 61, loss = 0.00395690\n",
      "Iteration 62, loss = 0.00386271\n",
      "Iteration 63, loss = 0.00378227\n",
      "Iteration 64, loss = 0.00368963\n",
      "Iteration 65, loss = 0.00361019\n",
      "Iteration 66, loss = 0.00353924\n",
      "Iteration 67, loss = 0.00346528\n",
      "Iteration 68, loss = 0.00338879\n",
      "Iteration 69, loss = 0.00331520\n",
      "Iteration 70, loss = 0.00324351\n",
      "Iteration 71, loss = 0.00318492\n",
      "Iteration 72, loss = 0.00312319\n",
      "Training loss did not improve more than tol=0.000100 for 10 consecutive epochs. Stopping.\n",
      "Iteration 1, loss = 1.71612766\n",
      "Iteration 2, loss = 0.79621193\n",
      "Iteration 3, loss = 0.59600180\n",
      "Iteration 4, loss = 0.45143249\n",
      "Iteration 5, loss = 0.36983480\n",
      "Iteration 6, loss = 0.30149603\n",
      "Iteration 7, loss = 0.25826027\n",
      "Iteration 8, loss = 0.21848361\n",
      "Iteration 9, loss = 0.18407078\n",
      "Iteration 10, loss = 0.15566172\n",
      "Iteration 11, loss = 0.13134747\n",
      "Iteration 12, loss = 0.11363205\n",
      "Iteration 13, loss = 0.09439056\n",
      "Iteration 14, loss = 0.08080272\n",
      "Iteration 15, loss = 0.06828179\n",
      "Iteration 16, loss = 0.05858925\n",
      "Iteration 17, loss = 0.05122731\n",
      "Iteration 18, loss = 0.04421010\n",
      "Iteration 19, loss = 0.03860801\n",
      "Iteration 20, loss = 0.03413517\n",
      "Iteration 21, loss = 0.03081663\n",
      "Iteration 22, loss = 0.02704090\n",
      "Iteration 23, loss = 0.02399668\n",
      "Iteration 24, loss = 0.02163502\n",
      "Iteration 25, loss = 0.01971242\n",
      "Iteration 26, loss = 0.01794655\n",
      "Iteration 27, loss = 0.01649182\n",
      "Iteration 28, loss = 0.01537472\n",
      "Iteration 29, loss = 0.01424297\n",
      "Iteration 30, loss = 0.01314409\n",
      "Iteration 31, loss = 0.01235484\n",
      "Iteration 32, loss = 0.01150966\n",
      "Iteration 33, loss = 0.01092987\n",
      "Iteration 34, loss = 0.01034895\n",
      "Iteration 35, loss = 0.00970313\n",
      "Iteration 36, loss = 0.00913585\n",
      "Iteration 37, loss = 0.00870853\n",
      "Iteration 38, loss = 0.00827595\n",
      "Iteration 39, loss = 0.00787584\n",
      "Iteration 40, loss = 0.00761741\n",
      "Iteration 41, loss = 0.00719679\n",
      "Iteration 42, loss = 0.00692101\n",
      "Iteration 43, loss = 0.00661459\n",
      "Iteration 44, loss = 0.00638743\n",
      "Iteration 45, loss = 0.00611557\n",
      "Iteration 46, loss = 0.00590405\n",
      "Iteration 47, loss = 0.00575650\n",
      "Iteration 48, loss = 0.00551635\n",
      "Iteration 49, loss = 0.00533968\n",
      "Iteration 50, loss = 0.00515909\n",
      "Iteration 51, loss = 0.00499330\n",
      "Iteration 52, loss = 0.00485955\n",
      "Iteration 53, loss = 0.00470823\n",
      "Iteration 54, loss = 0.00455476\n",
      "Iteration 55, loss = 0.00446805\n",
      "Iteration 56, loss = 0.00434028\n",
      "Iteration 57, loss = 0.00418910\n",
      "Iteration 58, loss = 0.00407189\n",
      "Iteration 59, loss = 0.00398535\n",
      "Iteration 60, loss = 0.00388222\n",
      "Iteration 61, loss = 0.00376601\n",
      "Iteration 62, loss = 0.00369061\n",
      "Iteration 63, loss = 0.00359437\n",
      "Iteration 64, loss = 0.00351811\n",
      "Iteration 65, loss = 0.00343819\n",
      "Iteration 66, loss = 0.00335662\n",
      "Iteration 67, loss = 0.00327159\n",
      "Iteration 68, loss = 0.00321779\n",
      "Iteration 69, loss = 0.00314445\n",
      "Iteration 70, loss = 0.00309400\n",
      "Iteration 71, loss = 0.00302127\n",
      "Iteration 72, loss = 0.00294285\n",
      "Training loss did not improve more than tol=0.000100 for 10 consecutive epochs. Stopping.\n",
      "\n",
      "RESULTS FOR NN\n",
      "\n",
      "NN training error: 0.000000\n",
      "NN test error: 0.152429\n"
     ]
    }
   ],
   "source": [
    "# use best architecture and params from before\n",
    "\n",
    "parameters = {'hidden_layer_sizes': [(40,)], 'batch_size': [480]}\n",
    "mlp_large = MLPClassifier(max_iter=500, alpha=1e-4, solver='sgd',\n",
    "                    tol=1e-4, random_state=ID, verbose=True,\n",
    "                    learning_rate_init=0.2)\n",
    "mlp_large.fit(X_train,y_train)\n",
    "\n",
    "clf = GridSearchCV(mlp_large, parameters, cv=5)\n",
    "clf.fit(X_train, y_train)\n",
    "\n",
    "print ('\\nRESULTS FOR NN\\n')\n",
    "\n",
    "#get training and test error for the NN\n",
    "\n",
    "training_error = 1 - clf.score(X_train, y_train)\n",
    "test_error = 1 - clf.score(X_test, y_test)\n",
    "\n",
    "print (\"NN training error: %f\" % training_error)\n",
    "print (\"NN test error: %f\" % test_error)\n"
   ]
  },
  {
   "cell_type": "markdown",
   "metadata": {},
   "source": [
    "## QUESTION 4\n",
    "Compare the train and test error you got with a large number of samples with the best one you obtained with only 600 data points. Comment about the results you obtained."
   ]
  },
  {
   "cell_type": "markdown",
   "metadata": {},
   "source": [
    "#### [ANSWER TO QUESTION 4]\n",
    "With large number of samples, the test error get smaller. The best training error was 0 for each case.\n",
    "When the model has more samples that can be use in the training, it can learn better since it will see different data. Hence, the performance on the test data also will get better. "
   ]
  },
  {
   "cell_type": "markdown",
   "metadata": {},
   "source": [
    "### TO DO 7\n",
    "\n",
    "Plot an example that was missclassified by NN with m=600 training data points and it is now instead correctly classified by NN with m=4000 training data points."
   ]
  },
  {
   "cell_type": "code",
   "execution_count": 39,
   "metadata": {},
   "outputs": [
    {
     "name": "stdout",
     "output_type": "stream",
     "text": [
      "INPUT:\n"
     ]
    },
    {
     "data": {
      "image/png": "[encoded data removed]",
      "text/plain": [
       "<Figure size 640x480 with 1 Axes>"
      ]
     },
     "metadata": {},
     "output_type": "display_data"
    },
    {
     "name": "stdout",
     "output_type": "stream",
     "text": [
      "LABEL: 8\n",
      "NN prediction:  0\n",
      "Large NN prediction:  8\n"
     ]
    }
   ],
   "source": [
    "NN_prediction = mlp.predict(X_test)\n",
    "large_NN_prediction = mlp_large.predict(X_test)\n",
    "\n",
    "i = 0\n",
    "found = False\n",
    "while ( not found & (i<len(y_test))):\n",
    "    if (NN_prediction[i] != y_test[i]) and (large_NN_prediction[i] == y_test[i]):\n",
    "        plot_input(X_test, y_test, i)\n",
    "        print(\"NN prediction: \", NN_prediction[i])\n",
    "        print(\"Large NN prediction: \", large_NN_prediction[i])\n",
    "        found = True\n",
    "        i += 1\n",
    "    else:\n",
    "        i += 1\n",
    "        "
   ]
  },
  {
   "cell_type": "markdown",
   "metadata": {},
   "source": [
    "### TO DO 8\n",
    "\n",
    "Let's plot the weigths of the multi-layer perceptron classifier, for the best NN we get with 600 data points and with 4000 data points. The code is already provided, just fix variable names (e.g., replace mlp , mlp_large with your estimators) in order to have it working with your implementation\n",
    "\n"
   ]
  },
  {
   "cell_type": "code",
   "execution_count": 34,
   "metadata": {},
   "outputs": [
    {
     "name": "stdout",
     "output_type": "stream",
     "text": [
      "Weights with 600 data points:\n"
     ]
    },
    {
     "data": {
      "image/png": "[encoded data removed]",
      "text/plain": [
       "<Figure size 640x480 with 16 Axes>"
      ]
     },
     "metadata": {},
     "output_type": "display_data"
    },
    {
     "name": "stdout",
     "output_type": "stream",
     "text": [
      "Weights with 4000 data points:\n"
     ]
    },
    {
     "data": {
      "image/png": "[encoded data removed]",
      "text/plain": [
       "<Figure size 640x480 with 16 Axes>"
      ]
     },
     "metadata": {},
     "output_type": "display_data"
    }
   ],
   "source": [
    "print(\"Weights with 600 data points:\")\n",
    "\n",
    "fig, axes = plt.subplots(4, 4)\n",
    "vmin, vmax = mlp.coefs_[0].min(), mlp.coefs_[0].max()\n",
    "for coef, ax in zip(mlp.coefs_[0].T, axes.ravel()):\n",
    "    ax.matshow(coef.reshape(28, 28), cmap=plt.cm.gray, vmin=.5 * vmin,\n",
    "               vmax=.5 * vmax)\n",
    "    ax.set_xticks(())\n",
    "    ax.set_yticks(())\n",
    "\n",
    "plt.show()\n",
    "\n",
    "print(\"Weights with 4000 data points:\")\n",
    "\n",
    "fig, axes = plt.subplots(4, 4)\n",
    "vmin, vmax = mlp_large.coefs_[0].min(), mlp_large.coefs_[0].max()\n",
    "for coef, ax in zip(mlp_large.coefs_[0].T, axes.ravel()):\n",
    "    ax.matshow(coef.reshape(28, 28), cmap=plt.cm.gray, vmin=.5 * vmin,\n",
    "               vmax=.5 * vmax)\n",
    "    ax.set_xticks(())\n",
    "    ax.set_yticks(())\n",
    "plt.show()"
   ]
  },
  {
   "cell_type": "markdown",
   "metadata": {},
   "source": [
    "## QUESTION 5\n",
    "\n",
    "Describe what do you observe by looking at the weights."
   ]
  },
  {
   "cell_type": "markdown",
   "metadata": {},
   "source": [
    "##### [ANSWER TO QUESTION 5]\n",
    "The weights with 600 data points have more stucture comparing with the weights with 4000 data points. "
   ]
  },
  {
   "cell_type": "markdown",
   "metadata": {},
   "source": [
    "### TO DO 9\n",
    "\n",
    "Take the best SVM model and its parameters, you found in the last notebook. Fit it on a few data points and compute its training and test scores. Then fit also a logistic regression model with C=1. "
   ]
  },
  {
   "cell_type": "code",
   "execution_count": 35,
   "metadata": {},
   "outputs": [
    {
     "name": "stdout",
     "output_type": "stream",
     "text": [
      "RESULTS FOR SVM\n",
      "Training score SVM:\n",
      "0.0\n",
      "Test score SVM:\n",
      "0.08540000000000003\n"
     ]
    }
   ],
   "source": [
    "m_training = 5000\n",
    "\n",
    "X_train, X_test = X[:m_training], X[m_training:2*m_training]\n",
    "y_train, y_test = y[:m_training], y[m_training:2*m_training]\n",
    "\n",
    "# use best parameters found in the SVM notebook, create SVM and perform fitting\n",
    "\n",
    "best_params = {'C': [10],'gamma':[0.01]}\n",
    "\n",
    "svc = SVC(kernel = 'rbf')\n",
    "model = GridSearchCV(svc, best_params)\n",
    "model.fit(X_train, y_train)\n",
    "\n",
    "print ('RESULTS FOR SVM')\n",
    "\n",
    "SVM_training_error =  1 - model.score(X_train, y_train)\n",
    "\n",
    "print(\"Training score SVM:\")\n",
    "print(SVM_training_error)\n",
    "\n",
    "SVM_test_error = 1 - model.score(X_test, y_test)\n",
    "print(\"Test score SVM:\")\n",
    "print(SVM_test_error)"
   ]
  },
  {
   "cell_type": "code",
   "execution_count": 38,
   "metadata": {},
   "outputs": [
    {
     "name": "stdout",
     "output_type": "stream",
     "text": [
      "\n",
      "RESULTS FOR LOGISTIC REGRESSION WITH REGULARIZATION\n",
      "Training error (reg): 0.033800\n",
      "Test error (reg): 0.251800\n"
     ]
    },
    {
     "name": "stderr",
     "output_type": "stream",
     "text": [
      "C:\\Users\\gozde\\anaconda3\\lib\\site-packages\\sklearn\\linear_model\\_logistic.py:814: ConvergenceWarning: lbfgs failed to converge (status=1):\n",
      "STOP: TOTAL NO. of ITERATIONS REACHED LIMIT.\n",
      "\n",
      "Increase the number of iterations (max_iter) or scale the data as shown in:\n",
      "    https://scikit-learn.org/stable/modules/preprocessing.html\n",
      "Please also refer to the documentation for alternative solver options:\n",
      "    https://scikit-learn.org/stable/modules/linear_model.html#logistic-regression\n",
      "  n_iter_i = _check_optimize_result(\n"
     ]
    }
   ],
   "source": [
    "from sklearn import linear_model\n",
    "from sklearn.linear_model import LogisticRegression\n",
    "\n",
    "lr = LogisticRegression(C = 1)\n",
    "\n",
    "# you can re-use your code from Lab 2\n",
    "\n",
    "lr.fit(X_train, y_train)\n",
    "\n",
    "print ('\\nRESULTS FOR LOGISTIC REGRESSION WITH REGULARIZATION')\n",
    "\n",
    "training_error =  1 - lr.score(X_train, y_train)\n",
    "test_error =  1 - lr.score(X_test, y_test)\n",
    "\n",
    "print (\"Training error (reg): %f\" % training_error)\n",
    "print (\"Test error (reg): %f\" % test_error)"
   ]
  },
  {
   "cell_type": "markdown",
   "metadata": {},
   "source": [
    "## QUESTION 6\n",
    "Compare the results of Logistic Regression (LR), SVM and NN. Which one achieve the best results? \n"
   ]
  },
  {
   "cell_type": "markdown",
   "metadata": {},
   "source": [
    "###### [ANSWER TO QUESTION 6]\n",
    "\n",
    "The training error is 0 for SVM and NN, while it is 0.033 for LR. So, for training error, LR has the worse performance.\n",
    "Comparing the test errors;\n",
    "\n",
    "NN = 0.152429\n",
    "\n",
    "SVM = 0.08540\n",
    "\n",
    "LR = 0.25180\n",
    "\n",
    "So, SVM has the better performance while LR has the worse. "
   ]
  },
  {
   "cell_type": "markdown",
   "metadata": {},
   "source": [
    "## QUESTION 7\n",
    "\n",
    "What are the different ways in which you can improve the results obtained for NN? List and justify some of them."
   ]
  },
  {
   "cell_type": "markdown",
   "metadata": {},
   "source": [
    "##### [ANSWER TO QUESTION 7]\n",
    "With increasing the number of samples, we can improve the performance of the NN. We saw that above while comparing the models that used 600 training data and 4000 training data. The one that used 4000 training data had better performance. "
   ]
  },
  {
   "cell_type": "code",
   "execution_count": null,
   "metadata": {},
   "outputs": [],
   "source": []
  }
 ],
 "metadata": {
  "kernelspec": {
   "display_name": "Python 3 (ipykernel)",
   "language": "python",
   "name": "python3"
  },
  "language_info": {
   "codemirror_mode": {
    "name": "ipython",
    "version": 3
   },
   "file_extension": ".py",
   "mimetype": "text/x-python",
   "name": "python",
   "nbconvert_exporter": "python",
   "pygments_lexer": "ipython3",
   "version": "3.11.7"
  }
 },
 "nbformat": 4,
 "nbformat_minor": 4
}
